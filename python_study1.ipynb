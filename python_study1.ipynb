{
  "nbformat": 4,
  "nbformat_minor": 0,
  "metadata": {
    "colab": {
      "provenance": [],
      "authorship_tag": "ABX9TyMhybmPnQiMKMoZpYWhpb0B",
      "include_colab_link": true
    },
    "kernelspec": {
      "name": "python3",
      "display_name": "Python 3"
    },
    "language_info": {
      "name": "python"
    }
  },
  "cells": [
    {
      "cell_type": "markdown",
      "metadata": {
        "id": "view-in-github",
        "colab_type": "text"
      },
      "source": [
        "<a href=\"https://colab.research.google.com/github/seongbeop/BigData_study/blob/main/python_study1.ipynb\" target=\"_parent\"><img src=\"https://colab.research.google.com/assets/colab-badge.svg\" alt=\"Open In Colab\"/></a>"
      ]
    },
    {
      "cell_type": "code",
      "execution_count": null,
      "metadata": {
        "id": "5EgpR-4E6nlW"
      },
      "outputs": [],
      "source": [
        "a = \"안녕하세요\""
      ]
    },
    {
      "cell_type": "code",
      "source": [
        "a[3]"
      ],
      "metadata": {
        "colab": {
          "base_uri": "https://localhost:8080/",
          "height": 35
        },
        "id": "NB5EuncQ6pqv",
        "outputId": "6b5160d9-da1a-46eb-ee0b-6cc12a2a511a"
      },
      "execution_count": null,
      "outputs": [
        {
          "output_type": "execute_result",
          "data": {
            "text/plain": [
              "'세'"
            ],
            "application/vnd.google.colaboratory.intrinsic+json": {
              "type": "string"
            }
          },
          "metadata": {},
          "execution_count": 3
        }
      ]
    },
    {
      "cell_type": "code",
      "source": [
        "a[0:2]"
      ],
      "metadata": {
        "colab": {
          "base_uri": "https://localhost:8080/",
          "height": 35
        },
        "id": "Db4JyKKO6s5t",
        "outputId": "396e8f56-bbb3-44ce-801a-e68b9a13d245"
      },
      "execution_count": null,
      "outputs": [
        {
          "output_type": "execute_result",
          "data": {
            "text/plain": [
              "'안녕'"
            ],
            "application/vnd.google.colaboratory.intrinsic+json": {
              "type": "string"
            }
          },
          "metadata": {},
          "execution_count": 4
        }
      ]
    },
    {
      "cell_type": "code",
      "source": [
        "a[0:5:2]"
      ],
      "metadata": {
        "colab": {
          "base_uri": "https://localhost:8080/",
          "height": 35
        },
        "id": "EmTM5KFK6vDW",
        "outputId": "67ae6c42-1d56-4f26-a646-53de2cd75384"
      },
      "execution_count": null,
      "outputs": [
        {
          "output_type": "execute_result",
          "data": {
            "text/plain": [
              "'안하요'"
            ],
            "application/vnd.google.colaboratory.intrinsic+json": {
              "type": "string"
            }
          },
          "metadata": {},
          "execution_count": 5
        }
      ]
    },
    {
      "cell_type": "code",
      "source": [
        "a[-2]"
      ],
      "metadata": {
        "colab": {
          "base_uri": "https://localhost:8080/",
          "height": 35
        },
        "id": "R8AkVyjQ65vP",
        "outputId": "888066ba-2c3e-4da3-9094-0856d9129f54"
      },
      "execution_count": null,
      "outputs": [
        {
          "output_type": "execute_result",
          "data": {
            "text/plain": [
              "'세'"
            ],
            "application/vnd.google.colaboratory.intrinsic+json": {
              "type": "string"
            }
          },
          "metadata": {},
          "execution_count": 6
        }
      ]
    },
    {
      "cell_type": "code",
      "source": [
        "a[::2]"
      ],
      "metadata": {
        "colab": {
          "base_uri": "https://localhost:8080/",
          "height": 35
        },
        "id": "ritgzJsR7Alh",
        "outputId": "b8c73287-1fc8-461c-81ac-64577a4e6d8e"
      },
      "execution_count": null,
      "outputs": [
        {
          "output_type": "execute_result",
          "data": {
            "text/plain": [
              "'안하요'"
            ],
            "application/vnd.google.colaboratory.intrinsic+json": {
              "type": "string"
            }
          },
          "metadata": {},
          "execution_count": 7
        }
      ]
    },
    {
      "cell_type": "code",
      "source": [
        "a[::-2]"
      ],
      "metadata": {
        "colab": {
          "base_uri": "https://localhost:8080/",
          "height": 35
        },
        "id": "eQljH7m47Eqo",
        "outputId": "12aa432d-75f0-4653-908a-9efdf63ea0ec"
      },
      "execution_count": null,
      "outputs": [
        {
          "output_type": "execute_result",
          "data": {
            "text/plain": [
              "'요하안'"
            ],
            "application/vnd.google.colaboratory.intrinsic+json": {
              "type": "string"
            }
          },
          "metadata": {},
          "execution_count": 8
        }
      ]
    },
    {
      "cell_type": "code",
      "source": [
        "a = 20000\n",
        "if a > 10000:\n",
        "  print(\"if 걸림\")\n",
        "else : print(\"if 안걸림\")\n",
        "print(\"코드 끝\")"
      ],
      "metadata": {
        "colab": {
          "base_uri": "https://localhost:8080/"
        },
        "id": "EK5wxcqJHFDu",
        "outputId": "687b8221-40db-4630-ac38-a402396bd271"
      },
      "execution_count": null,
      "outputs": [
        {
          "output_type": "stream",
          "name": "stdout",
          "text": [
            "if 걸림\n",
            "코드 끝\n"
          ]
        }
      ]
    },
    {
      "cell_type": "code",
      "source": [
        "'''price = 30000\n",
        "exp = price > 20000\n",
        "print(exp)\n",
        "\n",
        "if exp :\n",
        "  shipping_cost = 0'''"
      ],
      "metadata": {
        "colab": {
          "base_uri": "https://localhost:8080/"
        },
        "id": "q_FYUzX0Hs4y",
        "outputId": "db7770a0-94c5-41e2-e92d-b8e9c43fe6b6"
      },
      "execution_count": null,
      "outputs": [
        {
          "output_type": "stream",
          "name": "stdout",
          "text": [
            "True\n"
          ]
        }
      ]
    },
    {
      "cell_type": "code",
      "source": [
        "import math\n",
        "math.sqrt(9)\n"
      ],
      "metadata": {
        "colab": {
          "base_uri": "https://localhost:8080/"
        },
        "id": "3D2Pk0fFIRYk",
        "outputId": "eb0db0d0-6f36-4f63-95f4-f1b7c37195fd"
      },
      "execution_count": null,
      "outputs": [
        {
          "output_type": "execute_result",
          "data": {
            "text/plain": [
              "3.0"
            ]
          },
          "metadata": {},
          "execution_count": 12
        }
      ]
    },
    {
      "cell_type": "code",
      "source": [
        "from math import sqrt\n",
        "sqrt(9)"
      ],
      "metadata": {
        "colab": {
          "base_uri": "https://localhost:8080/"
        },
        "id": "AKbohhhOInS2",
        "outputId": "40476902-d4f2-4281-fedf-dffd8bf534bc"
      },
      "execution_count": null,
      "outputs": [
        {
          "output_type": "execute_result",
          "data": {
            "text/plain": [
              "3.0"
            ]
          },
          "metadata": {},
          "execution_count": 13
        }
      ]
    },
    {
      "cell_type": "code",
      "source": [
        "from math import *\n",
        "sqrt(9)"
      ],
      "metadata": {
        "colab": {
          "base_uri": "https://localhost:8080/"
        },
        "id": "7e4boLsLInAT",
        "outputId": "08d54339-ddf5-478f-ebb8-3455f1ff0cb8"
      },
      "execution_count": null,
      "outputs": [
        {
          "output_type": "execute_result",
          "data": {
            "text/plain": [
              "3.0"
            ]
          },
          "metadata": {},
          "execution_count": 14
        }
      ]
    },
    {
      "cell_type": "code",
      "source": [
        "x=int(input(\"첫번쨰\"))\n",
        "y=int(input(\"두번쨰\"))\n",
        "'''absolute_value =  (x if x > 0 else -x)'''\n",
        "max_value = (x if x > y else y)\n",
        "min_value = (x if x < y else y)\n",
        "print(\"큰 수 = \", max_value, \"작은 수 = \", min_value)"
      ],
      "metadata": {
        "colab": {
          "base_uri": "https://localhost:8080/"
        },
        "id": "8-F-fLoQJNwy",
        "outputId": "96957397-63f4-4ed0-91c6-80f8118fe8aa"
      },
      "execution_count": null,
      "outputs": [
        {
          "output_type": "stream",
          "name": "stdout",
          "text": [
            "첫번쨰10\n",
            "두번쨰20\n",
            "큰 수 =  20 작은 수 =  10\n"
          ]
        }
      ]
    },
    {
      "cell_type": "code",
      "source": [
        "a =2 \n",
        "if a % 2 == 0 :\n",
        "  print(\"짝수\")\n",
        "else : \n",
        "  print(\"홀수\")"
      ],
      "metadata": {
        "colab": {
          "base_uri": "https://localhost:8080/"
        },
        "id": "cTUZeHk3KeTn",
        "outputId": "abd4e475-6fd4-44d2-f576-77dd47c6ec84"
      },
      "execution_count": null,
      "outputs": [
        {
          "output_type": "stream",
          "name": "stdout",
          "text": [
            "짝수\n"
          ]
        }
      ]
    },
    {
      "cell_type": "code",
      "source": [
        "price = int(input(\"가격\"))\n",
        "card = input(\"카드 종류\")\n",
        "if price > 20000 and card ==\"python\" :\n",
        "  print(\"배송료가 없습니다\")\n",
        "else :\n",
        "  print(\"배송료 3000천원\")"
      ],
      "metadata": {
        "colab": {
          "base_uri": "https://localhost:8080/"
        },
        "id": "13a5hN8cLVHw",
        "outputId": "6ef28c44-e37c-4f0c-a3fe-fb095af5420f"
      },
      "execution_count": null,
      "outputs": [
        {
          "output_type": "stream",
          "name": "stdout",
          "text": [
            "가격30000\n",
            "카드 종류python\n",
            "배송료가 없습니다\n"
          ]
        }
      ]
    },
    {
      "cell_type": "code",
      "source": [
        "num = int(input(\"정수입력\"))\n",
        "\n",
        "if num > 0 :\n",
        "  print(\"양수\")\n",
        "elif num == 0 :\n",
        "  print(\"0입니다\")\n",
        "elif num < 0 :\n",
        "  print(\"음수\")"
      ],
      "metadata": {
        "colab": {
          "base_uri": "https://localhost:8080/"
        },
        "id": "FcXo7Y10L6sM",
        "outputId": "c6efbdeb-f0e1-48a6-8e83-6ee05fb9c3b8"
      },
      "execution_count": null,
      "outputs": [
        {
          "output_type": "stream",
          "name": "stdout",
          "text": [
            "정수입력-1\n",
            "음수\n"
          ]
        }
      ]
    },
    {
      "cell_type": "code",
      "source": [
        "s1 =  float(input(\"리히터 규모\"))\n",
        "\n",
        "if s1 < 2.0 :\n",
        "  print(\"지진계에 의해서만 탐지 가능합니다\")\n",
        "elif 2.0 < s1 <= 3.9 :\n",
        " print(\"물건들이 흔들리거나 떨어집니다\")\n",
        "elif 4.0 < s1 <= 6.9 :\n",
        "  print(\"빈약한 건물에 큰 피해가 있습니다\")\n",
        "elif 7.0 < s1 <= 7.9 :\n",
        "  print(\"지표면에 균열이 발생합니다\")\n",
        "elif 8.0 < s1 <= 9.0 :\n",
        "  print(\"대부분의 구조물이 파괴됩니다\")"
      ],
      "metadata": {
        "colab": {
          "base_uri": "https://localhost:8080/"
        },
        "id": "kD5VEgqBMzmd",
        "outputId": "495a0a2f-8f56-4a16-9bda-6da60dca61c0"
      },
      "execution_count": null,
      "outputs": [
        {
          "name": "stdout",
          "output_type": "stream",
          "text": [
            "리히터 규모2.0\n"
          ]
        }
      ]
    },
    {
      "cell_type": "code",
      "source": [
        "for i in range(5) :\n",
        "  print(i)\n",
        "for i in range(1,6) :\n",
        "  print(i)\n",
        "for i in range(1,6,2) :\n",
        "  print(i)\n"
      ],
      "metadata": {
        "colab": {
          "base_uri": "https://localhost:8080/"
        },
        "id": "LZA4q5QDjeUN",
        "outputId": "80a9a3cc-b1c7-4d0d-c104-fbd131c34ea7"
      },
      "execution_count": null,
      "outputs": [
        {
          "output_type": "stream",
          "name": "stdout",
          "text": [
            "0\n",
            "1\n",
            "2\n",
            "3\n",
            "4\n",
            "1\n",
            "2\n",
            "3\n",
            "4\n",
            "5\n",
            "1\n",
            "3\n",
            "5\n"
          ]
        }
      ]
    },
    {
      "cell_type": "code",
      "source": [
        "\n",
        "for i in range(5 , 0 , -1):\n",
        "  print(i, end=\" \")"
      ],
      "metadata": {
        "colab": {
          "base_uri": "https://localhost:8080/"
        },
        "id": "Qxx33_oHkeCp",
        "outputId": "01b8b4dd-f74c-4f5b-84e2-23f008df0307"
      },
      "execution_count": null,
      "outputs": [
        {
          "output_type": "stream",
          "name": "stdout",
          "text": [
            "5 4 3 2 1 "
          ]
        }
      ]
    },
    {
      "cell_type": "code",
      "source": [
        "TARGET = 2000\n",
        "#목표금액\n",
        "money = 1000\n",
        "#초기자금\n",
        "year = 0 \n",
        "#연도\n",
        "rate = 0.07\n",
        "#이자율\n",
        "\n",
        "while money < TARGET :\n",
        "  money = money + money * rate\n",
        "  year = year + 1\n",
        "print(year, \"년\")"
      ],
      "metadata": {
        "colab": {
          "base_uri": "https://localhost:8080/"
        },
        "id": "qHRjF3k5lS40",
        "outputId": "73f64a1e-9fe2-40de-be26-a028198e5c45"
      },
      "execution_count": null,
      "outputs": [
        {
          "output_type": "stream",
          "name": "stdout",
          "text": [
            "11 년\n"
          ]
        }
      ]
    },
    {
      "cell_type": "code",
      "source": [
        "for i  in range(5):\n",
        "  for j in range(5):\n",
        "    print(\"i\", i, \"j\", j)"
      ],
      "metadata": {
        "colab": {
          "base_uri": "https://localhost:8080/"
        },
        "id": "g8Jpg89bmxSx",
        "outputId": "a86e64dc-91e9-484e-9ae5-f76d26c0814c"
      },
      "execution_count": null,
      "outputs": [
        {
          "output_type": "stream",
          "name": "stdout",
          "text": [
            "i 0 j 0\n",
            "i 0 j 1\n",
            "i 0 j 2\n",
            "i 0 j 3\n",
            "i 0 j 4\n",
            "i 1 j 0\n",
            "i 1 j 1\n",
            "i 1 j 2\n",
            "i 1 j 3\n",
            "i 1 j 4\n",
            "i 2 j 0\n",
            "i 2 j 1\n",
            "i 2 j 2\n",
            "i 2 j 3\n",
            "i 2 j 4\n",
            "i 3 j 0\n",
            "i 3 j 1\n",
            "i 3 j 2\n",
            "i 3 j 3\n",
            "i 3 j 4\n",
            "i 4 j 0\n",
            "i 4 j 1\n",
            "i 4 j 2\n",
            "i 4 j 3\n",
            "i 4 j 4\n"
          ]
        }
      ]
    },
    {
      "cell_type": "code",
      "source": [
        "for y in range(5):\n",
        "  for x in range(10):\n",
        "     print(\"*\", end=\"\")\n",
        "  print(\"\")"
      ],
      "metadata": {
        "colab": {
          "base_uri": "https://localhost:8080/"
        },
        "id": "itABYaf-olGv",
        "outputId": "3303afcf-e877-4f93-f723-a60f7db931d6"
      },
      "execution_count": null,
      "outputs": [
        {
          "output_type": "stream",
          "name": "stdout",
          "text": [
            "**********\n",
            "**********\n",
            "**********\n",
            "**********\n",
            "**********\n"
          ]
        }
      ]
    },
    {
      "cell_type": "code",
      "source": [
        "adj = [\"small\", \"medium\", \"large\"]\n",
        "nouns = [\"apple\", \"banana\", \"grape\"]\n",
        "for x in adj:\n",
        "  for y in nouns:\n",
        "    print(x,y)"
      ],
      "metadata": {
        "colab": {
          "base_uri": "https://localhost:8080/"
        },
        "id": "ALdXIUBnpLnI",
        "outputId": "988e60e5-6199-4483-ff73-9f29c77b30ac"
      },
      "execution_count": null,
      "outputs": [
        {
          "output_type": "stream",
          "name": "stdout",
          "text": [
            "small apple\n",
            "small banana\n",
            "small grape\n",
            "medium apple\n",
            "medium banana\n",
            "medium grape\n",
            "large apple\n",
            "large banana\n",
            "large grape\n"
          ]
        }
      ]
    },
    {
      "cell_type": "code",
      "source": [
        "for i in range(1,11):\n",
        "  if i%3 == 0 :\n",
        "    continue\n",
        "  print(i, end=\"\")"
      ],
      "metadata": {
        "colab": {
          "base_uri": "https://localhost:8080/"
        },
        "id": "UroeIg_NpLYC",
        "outputId": "4dc4841f-7aed-4481-b094-35ff526beca7"
      },
      "execution_count": null,
      "outputs": [
        {
          "output_type": "stream",
          "name": "stdout",
          "text": [
            "12457810"
          ]
        }
      ]
    }
  ]
}