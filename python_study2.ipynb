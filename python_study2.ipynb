{
  "nbformat": 4,
  "nbformat_minor": 0,
  "metadata": {
    "colab": {
      "provenance": [],
      "include_colab_link": true
    },
    "kernelspec": {
      "name": "python3",
      "display_name": "Python 3"
    },
    "language_info": {
      "name": "python"
    }
  },
  "cells": [
    {
      "cell_type": "markdown",
      "metadata": {
        "id": "view-in-github",
        "colab_type": "text"
      },
      "source": [
        "<a href=\"https://colab.research.google.com/github/seongbeop/python_study/blob/main/python_study2.ipynb\" target=\"_parent\"><img src=\"https://colab.research.google.com/assets/colab-badge.svg\" alt=\"Open In Colab\"/></a>"
      ]
    },
    {
      "cell_type": "code",
      "execution_count": null,
      "metadata": {
        "colab": {
          "base_uri": "https://localhost:8080/"
        },
        "id": "s2nhWgyySZSK",
        "outputId": "bccd8502-7f4f-44cb-a7cc-85bf9b9cd1ce"
      },
      "outputs": [
        {
          "output_type": "execute_result",
          "data": {
            "text/plain": [
              "314.0"
            ]
          },
          "metadata": {},
          "execution_count": 87
        }
      ],
      "source": [
        "3.14 * 10 * 10"
      ]
    },
    {
      "cell_type": "code",
      "source": [
        "3.14 * 10**2"
      ],
      "metadata": {
        "colab": {
          "base_uri": "https://localhost:8080/"
        },
        "id": "Hex4k4N8TIMu",
        "outputId": "df653cff-217f-4068-9c0b-e9e77ae1001e"
      },
      "execution_count": null,
      "outputs": [
        {
          "output_type": "execute_result",
          "data": {
            "text/plain": [
              "314.0"
            ]
          },
          "metadata": {},
          "execution_count": 88
        }
      ]
    },
    {
      "cell_type": "code",
      "source": [
        "import math\n",
        "math.sin(40)"
      ],
      "metadata": {
        "colab": {
          "base_uri": "https://localhost:8080/"
        },
        "id": "DriBvjG8TMQh",
        "outputId": "e9c2e83e-16eb-4a13-a9ac-2526cde35a8d"
      },
      "execution_count": null,
      "outputs": [
        {
          "output_type": "execute_result",
          "data": {
            "text/plain": [
              "0.7451131604793488"
            ]
          },
          "metadata": {},
          "execution_count": 4
        }
      ]
    },
    {
      "cell_type": "code",
      "source": [
        "print(\"결과값은\", 10, \"입니다.\")"
      ],
      "metadata": {
        "colab": {
          "base_uri": "https://localhost:8080/"
        },
        "id": "ygStISLLT-K5",
        "outputId": "187723e4-6180-4ab4-cb1d-0e44d7400f58"
      },
      "execution_count": null,
      "outputs": [
        {
          "output_type": "stream",
          "name": "stdout",
          "text": [
            "결과값은 10 입니다.\n"
          ]
        }
      ]
    },
    {
      "cell_type": "code",
      "source": [
        "\"나의\" + \"고양이\""
      ],
      "metadata": {
        "colab": {
          "base_uri": "https://localhost:8080/",
          "height": 35
        },
        "id": "m2BHhNtlUGjE",
        "outputId": "cf4ee989-6b6b-42b0-a54a-d6bb9b8da452"
      },
      "execution_count": null,
      "outputs": [
        {
          "output_type": "execute_result",
          "data": {
            "text/plain": [
              "'나의고양이'"
            ],
            "application/vnd.google.colaboratory.intrinsic+json": {
              "type": "string"
            }
          },
          "metadata": {},
          "execution_count": 6
        }
      ]
    },
    {
      "cell_type": "code",
      "source": [
        "\"Hello\" * 10"
      ],
      "metadata": {
        "colab": {
          "base_uri": "https://localhost:8080/",
          "height": 35
        },
        "id": "xG-5jljbUfnf",
        "outputId": "26bc48d0-7a79-425b-e7f7-4200350fbff2"
      },
      "execution_count": null,
      "outputs": [
        {
          "output_type": "execute_result",
          "data": {
            "text/plain": [
              "'HelloHelloHelloHelloHelloHelloHelloHelloHelloHello'"
            ],
            "application/vnd.google.colaboratory.intrinsic+json": {
              "type": "string"
            }
          },
          "metadata": {},
          "execution_count": 7
        }
      ]
    },
    {
      "cell_type": "code",
      "source": [
        "print(\"2+3 =\",2+3)"
      ],
      "metadata": {
        "colab": {
          "base_uri": "https://localhost:8080/"
        },
        "id": "CJ0HVrf8UkYZ",
        "outputId": "045246ac-4658-4f57-e8a9-13b21edac5df"
      },
      "execution_count": null,
      "outputs": [
        {
          "output_type": "stream",
          "name": "stdout",
          "text": [
            "2+3 = 5\n"
          ]
        }
      ]
    },
    {
      "cell_type": "code",
      "source": [
        "x = 10000\n",
        "y = 20000"
      ],
      "metadata": {
        "id": "nAHO3T1TU3Ql"
      },
      "execution_count": null,
      "outputs": []
    },
    {
      "cell_type": "code",
      "source": [
        "print(x)\n",
        "print(y)"
      ],
      "metadata": {
        "colab": {
          "base_uri": "https://localhost:8080/"
        },
        "id": "i-rCUggAVF9i",
        "outputId": "bab109f6-b6c9-44bc-9379-735d1549157b"
      },
      "execution_count": null,
      "outputs": [
        {
          "output_type": "stream",
          "name": "stdout",
          "text": [
            "10000\n",
            "20000\n"
          ]
        }
      ]
    },
    {
      "cell_type": "code",
      "source": [
        "x = 100\n",
        "y = 200\n",
        "sum = x + y\n",
        "print(\"합은\", sum)"
      ],
      "metadata": {
        "colab": {
          "base_uri": "https://localhost:8080/"
        },
        "id": "kf8JsMDrVR3P",
        "outputId": "acce9ded-b5d4-4cff-ce2b-a1d22ce681ec"
      },
      "execution_count": null,
      "outputs": [
        {
          "output_type": "stream",
          "name": "stdout",
          "text": [
            "합은 300\n"
          ]
        }
      ]
    },
    {
      "cell_type": "code",
      "source": [
        "radius = 10\n",
        "area = 3.14 * radius * radius\n",
        "print(\"반지름\", radius, \"인 원의 면적=\", area)"
      ],
      "metadata": {
        "colab": {
          "base_uri": "https://localhost:8080/"
        },
        "id": "DnG2gxNxVbT8",
        "outputId": "66b22a02-5a8f-4a78-fc23-814ad1a4e242"
      },
      "execution_count": null,
      "outputs": [
        {
          "output_type": "stream",
          "name": "stdout",
          "text": [
            "반지름 10 인 원의 면적= 314.0\n"
          ]
        }
      ]
    },
    {
      "cell_type": "code",
      "source": [
        "type(12.30)\n",
        "#타입확인"
      ],
      "metadata": {
        "colab": {
          "base_uri": "https://localhost:8080/"
        },
        "id": "9TFkSKlMVxfF",
        "outputId": "99b010f3-9d5c-45e6-c6fd-278f094e3c12"
      },
      "execution_count": null,
      "outputs": [
        {
          "output_type": "execute_result",
          "data": {
            "text/plain": [
              "float"
            ]
          },
          "metadata": {},
          "execution_count": 19
        }
      ]
    },
    {
      "cell_type": "code",
      "source": [
        "x=y=z=0\n",
        "x,y,z = 10,20,30\n",
        "#치환\n",
        "x,y = y,x "
      ],
      "metadata": {
        "id": "61wvDVsDXjKS"
      },
      "execution_count": null,
      "outputs": []
    },
    {
      "cell_type": "code",
      "source": [
        "x = 1000\n",
        "print(\"초깃값 x=\" ,x)\n",
        "x += 2;\n",
        "print(\"x += 2 후의 x =\", x)\n",
        "x -= 2;\n",
        "print(\"x -= 2후의 x=\", x)"
      ],
      "metadata": {
        "colab": {
          "base_uri": "https://localhost:8080/"
        },
        "id": "NnnSZj4sX0UY",
        "outputId": "6d0f7d21-3c44-46ff-ea3f-bc88f89bdca3"
      },
      "execution_count": null,
      "outputs": [
        {
          "output_type": "stream",
          "name": "stdout",
          "text": [
            "초깃값 x= 1000\n",
            "x += 2 후의 x = 1002\n",
            "x -= 2후의 x= 1000\n"
          ]
        }
      ]
    },
    {
      "cell_type": "code",
      "source": [
        "x = 3.14\n",
        "y = int(x)\n",
        "z =  str(x)\n",
        "\n",
        "print(x)\n",
        "print(y)\n",
        "print(type(y))\n",
        "print(type(z))"
      ],
      "metadata": {
        "colab": {
          "base_uri": "https://localhost:8080/"
        },
        "id": "OjRmD-TNYpe5",
        "outputId": "2de87d3f-7552-4803-c086-d67a80466607"
      },
      "execution_count": null,
      "outputs": [
        {
          "output_type": "stream",
          "name": "stdout",
          "text": [
            "3.14\n",
            "3\n",
            "<class 'int'>\n",
            "<class 'str'>\n"
          ]
        }
      ]
    },
    {
      "cell_type": "code",
      "source": [
        "price = 12345\n",
        "tax = price * 0.075\n",
        "print(tax)\n",
        "print(round(tax))\n",
        "#round 반올림"
      ],
      "metadata": {
        "colab": {
          "base_uri": "https://localhost:8080/"
        },
        "id": "juC0Yw64ZCKi",
        "outputId": "04c4f95a-1902-4d4b-d128-8b68f2acf32c"
      },
      "execution_count": null,
      "outputs": [
        {
          "output_type": "stream",
          "name": "stdout",
          "text": [
            "925.875\n",
            "926\n"
          ]
        }
      ]
    },
    {
      "cell_type": "code",
      "source": [
        "msg =  \"철수가 '안녕'이라고 말했습니다.\"\n",
        "print(msg)"
      ],
      "metadata": {
        "colab": {
          "base_uri": "https://localhost:8080/"
        },
        "id": "fpjBMXYiZW84",
        "outputId": "d7b29198-1145-4212-f37b-c5e98029bd72"
      },
      "execution_count": null,
      "outputs": [
        {
          "output_type": "stream",
          "name": "stdout",
          "text": [
            "철수가 '안녕'이라고 말했습니다.\n"
          ]
        }
      ]
    },
    {
      "cell_type": "code",
      "source": [
        "a = \"\"\"안녕하세요\n",
        "안녕하세요안녕하세요안녕하세요\n",
        "안녕하세요안녕하세요\"\"\"\n",
        "print(a)\n",
        "#문단 저장"
      ],
      "metadata": {
        "colab": {
          "base_uri": "https://localhost:8080/"
        },
        "id": "prGlI9IqZ0yg",
        "outputId": "a18bb0b8-a2f8-4c09-f622-b3692ee8b2ca"
      },
      "execution_count": null,
      "outputs": [
        {
          "output_type": "stream",
          "name": "stdout",
          "text": [
            "안녕하세요\n",
            "안녕하세요안녕하세요안녕하세요\n",
            "안녕하세요안녕하세요\n"
          ]
        }
      ]
    },
    {
      "cell_type": "code",
      "source": [
        "print(\"말 한마디로 \\n천냥빚을 갚는다\")\n",
        "print(\"\\\\\") \n",
        "print(\"1\\t1\")\n",
        "print(\"\\'\")\n",
        "print(\"\\\"\")"
      ],
      "metadata": {
        "colab": {
          "base_uri": "https://localhost:8080/"
        },
        "id": "JcZQg4hsaSrq",
        "outputId": "ff763e55-df5b-4ea0-dd09-df0a1e636c63"
      },
      "execution_count": null,
      "outputs": [
        {
          "output_type": "stream",
          "name": "stdout",
          "text": [
            "말 한마디로 \n",
            "천냥빚을 갚는다\n",
            "\\\n",
            "1\t1\n",
            "'\n",
            "\"\n"
          ]
        }
      ]
    },
    {
      "cell_type": "code",
      "source": [
        "s = \"Hello World\"\n",
        "\n",
        "print(s[0],s[6])\n",
        "print(s[-3])\n",
        "#인버스 인덱싱 (음수인덱싱)\n",
        "print(s[0:2])\n",
        "print(s[4:8])\n",
        "#슬라이싱기법"
      ],
      "metadata": {
        "colab": {
          "base_uri": "https://localhost:8080/"
        },
        "id": "Xd-7QGTCdHnM",
        "outputId": "f2601dbb-d569-4317-9a80-bea9fa1808fb"
      },
      "execution_count": null,
      "outputs": [
        {
          "output_type": "stream",
          "name": "stdout",
          "text": [
            "H W\n",
            "r\n",
            "He\n",
            "o Wo\n"
          ]
        }
      ]
    },
    {
      "cell_type": "code",
      "source": [
        "name = \"Harry Parter\"\n",
        "lower_name = name.lower()\n",
        "print(lower_name)\n",
        "\n",
        "new_name = name.replace(\"Parter\",\"Porter\")\n",
        "print(new_name)"
      ],
      "metadata": {
        "colab": {
          "base_uri": "https://localhost:8080/"
        },
        "id": "zDj2DzZoeXEn",
        "outputId": "0b6de297-0802-453b-8691-65be7016ca9f"
      },
      "execution_count": null,
      "outputs": [
        {
          "output_type": "stream",
          "name": "stdout",
          "text": [
            "harry parter\n",
            "Harry Porter\n"
          ]
        }
      ]
    },
    {
      "cell_type": "code",
      "source": [
        "name = input(\"이름을 입력하세요:\")"
      ],
      "metadata": {
        "colab": {
          "base_uri": "https://localhost:8080/"
        },
        "id": "MqZXU4cYfsMA",
        "outputId": "45b89ecc-401b-4b1d-f09a-7e52fff2b402"
      },
      "execution_count": null,
      "outputs": [
        {
          "name": "stdout",
          "output_type": "stream",
          "text": [
            "이름을 입력하세요:홍길동\n"
          ]
        }
      ]
    },
    {
      "cell_type": "code",
      "source": [
        "print(name)"
      ],
      "metadata": {
        "colab": {
          "base_uri": "https://localhost:8080/"
        },
        "id": "aLXgsOtzf2pg",
        "outputId": "5dcb1212-c6cc-4cf1-a80e-a91abbbbb978"
      },
      "execution_count": null,
      "outputs": [
        {
          "output_type": "stream",
          "name": "stdout",
          "text": [
            "홍길동\n"
          ]
        }
      ]
    },
    {
      "cell_type": "code",
      "source": [
        "s1 = int(input(\"첫 번쨰 정수 입력 : \"))\n",
        "s2 = int(input(\"두 번쨰 정수 입력 : \"))\n",
        "sum = s1+s2\n",
        "print(\"합은\",sum)"
      ],
      "metadata": {
        "id": "g_G6-PQOf9cv"
      },
      "execution_count": null,
      "outputs": []
    },
    {
      "cell_type": "code",
      "source": [
        "x = 100\n",
        "y = 200\n",
        "print(f\"{x}와 {y}의 합={x+y}\")"
      ],
      "metadata": {
        "colab": {
          "base_uri": "https://localhost:8080/"
        },
        "id": "Vujjzd6egcWS",
        "outputId": "0f5ffe74-1de9-44a9-caa7-dd48caf95725"
      },
      "execution_count": null,
      "outputs": [
        {
          "output_type": "stream",
          "name": "stdout",
          "text": [
            "100와 200의 합=300\n"
          ]
        }
      ]
    },
    {
      "cell_type": "code",
      "source": [
        "py = 7.1234\n",
        "print(\"테스트 출력 %10.2f\" % py)\n",
        "                  #%10 10칸 할당\n",
        "                  #.2f 소수점 2자리\n",
        "                  # % py값"
      ],
      "metadata": {
        "colab": {
          "base_uri": "https://localhost:8080/"
        },
        "id": "xV8EVpBigtKH",
        "outputId": "e5580635-3810-4cdb-fae2-c34f08c221e2"
      },
      "execution_count": null,
      "outputs": [
        {
          "output_type": "stream",
          "name": "stdout",
          "text": [
            "테스트 출력       7.12\n"
          ]
        }
      ]
    },
    {
      "cell_type": "code",
      "source": [
        "print(\"Mary\\'s cosmetics\")"
      ],
      "metadata": {
        "colab": {
          "base_uri": "https://localhost:8080/"
        },
        "id": "JIfoYVzFiR2z",
        "outputId": "97dd4819-9880-466e-8632-78d8eedc5756"
      },
      "execution_count": null,
      "outputs": [
        {
          "output_type": "stream",
          "name": "stdout",
          "text": [
            "Mary's cosmetics\n"
          ]
        }
      ]
    },
    {
      "cell_type": "code",
      "source": [
        "\n",
        "print(\"naver\",\"kakao\",\"sk\",\"samsung\", sep=';')\n"
      ],
      "metadata": {
        "id": "Kfd_lxHMllx1",
        "colab": {
          "base_uri": "https://localhost:8080/"
        },
        "outputId": "4605fb6c-6a5a-4b4a-8bc7-1b81f1458dc4"
      },
      "execution_count": null,
      "outputs": [
        {
          "output_type": "stream",
          "name": "stdout",
          "text": [
            "naver;kakao;sk;samsung\n"
          ]
        }
      ]
    },
    {
      "cell_type": "code",
      "source": [
        "\n",
        "print(\"naver\",\"kakao\",\"sk\",\"samsung\", sep='/')\n"
      ],
      "metadata": {
        "id": "zF5O3C5A3EoB",
        "outputId": "2b27a5f2-e9ce-4ff2-8caf-bb11fa9064a6",
        "colab": {
          "base_uri": "https://localhost:8080/"
        }
      },
      "execution_count": null,
      "outputs": [
        {
          "output_type": "stream",
          "name": "stdout",
          "text": [
            "naver/kakao/sk/samsung\n"
          ]
        }
      ]
    },
    {
      "cell_type": "code",
      "source": [
        "s = \"hello\"\n",
        "t = \"python\"\n",
        "print(s , end=\"!\")\n"
      ],
      "metadata": {
        "colab": {
          "base_uri": "https://localhost:8080/"
        },
        "id": "i9Ux1JJW5L1e",
        "outputId": "b52eaa58-0840-49ae-efa8-b8dc7b0a7f6a"
      },
      "execution_count": null,
      "outputs": [
        {
          "output_type": "stream",
          "name": "stdout",
          "text": [
            "hello!"
          ]
        }
      ]
    },
    {
      "cell_type": "code",
      "source": [
        "num_str = \"720\"\n",
        "print( int(num_str))"
      ],
      "metadata": {
        "colab": {
          "base_uri": "https://localhost:8080/"
        },
        "id": "APh2cZ7-5f2C",
        "outputId": "9589c7c6-48b3-4d96-dae9-e74bb2172a79"
      },
      "execution_count": null,
      "outputs": [
        {
          "output_type": "stream",
          "name": "stdout",
          "text": [
            "720\n"
          ]
        }
      ]
    },
    {
      "cell_type": "code",
      "source": [
        "year = \"2000\"\n",
        "print(int(year)-3)"
      ],
      "metadata": {
        "colab": {
          "base_uri": "https://localhost:8080/"
        },
        "id": "Qk4ZSGCG5k5d",
        "outputId": "dd884d25-752f-4e7e-f887-d7c1a6ec3f25"
      },
      "execution_count": null,
      "outputs": [
        {
          "output_type": "stream",
          "name": "stdout",
          "text": [
            "1997\n"
          ]
        }
      ]
    },
    {
      "cell_type": "code",
      "source": [
        "a=48584\n",
        "b=36\n",
        "print(a*b)"
      ],
      "metadata": {
        "colab": {
          "base_uri": "https://localhost:8080/"
        },
        "id": "b0kYZm3i5zLW",
        "outputId": "a356a636-7149-4e9d-a4c0-ba66a001db48"
      },
      "execution_count": null,
      "outputs": [
        {
          "output_type": "stream",
          "name": "stdout",
          "text": [
            "1749024\n"
          ]
        }
      ]
    },
    {
      "cell_type": "code",
      "source": [
        "price = int(input(\"상품의 가격:\"))\n",
        "\n",
        "if price > 20000 :\n",
        "  shipping_cost = 0 \n",
        "else : shipping_cost = 3000\n",
        "\n",
        "print(\"배송비 =\",shipping_cost)"
      ],
      "metadata": {
        "colab": {
          "base_uri": "https://localhost:8080/"
        },
        "id": "NaJJ-ySpGbtw",
        "outputId": "77e26717-3ef7-4ec7-ea06-57976a402d9b"
      },
      "execution_count": null,
      "outputs": [
        {
          "output_type": "stream",
          "name": "stdout",
          "text": [
            "상품의 가격:30000\n",
            "배송비 = 0\n"
          ]
        }
      ]
    }
  ]
}