{
  "nbformat": 4,
  "nbformat_minor": 0,
  "metadata": {
    "colab": {
      "provenance": [],
      "authorship_tag": "ABX9TyMLNhIeS1i8ry0apa642CAU",
      "include_colab_link": true
    },
    "kernelspec": {
      "name": "python3",
      "display_name": "Python 3"
    },
    "language_info": {
      "name": "python"
    }
  },
  "cells": [
    {
      "cell_type": "markdown",
      "metadata": {
        "id": "view-in-github",
        "colab_type": "text"
      },
      "source": [
        "<a href=\"https://colab.research.google.com/github/seongbeop/python_study/blob/main/python_study3.ipynb\" target=\"_parent\"><img src=\"https://colab.research.google.com/assets/colab-badge.svg\" alt=\"Open In Colab\"/></a>"
      ]
    },
    {
      "cell_type": "code",
      "execution_count": 1,
      "metadata": {
        "colab": {
          "base_uri": "https://localhost:8080/"
        },
        "id": "PmBOxkwu_cGv",
        "outputId": "7ec1c83a-90e5-4ca5-b17e-85845b4eaa7b"
      },
      "outputs": [
        {
          "output_type": "stream",
          "name": "stdout",
          "text": [
            "반지름 3인 원의 면적 = 28.26\n"
          ]
        }
      ],
      "source": [
        "def get_area(radius):\n",
        "  area = 3.14*radius**2\n",
        "  return area\n",
        "\n",
        "result = get_area(3)\n",
        "print(\"반지름 3인 원의 면적 =\", result)"
      ]
    },
    {
      "cell_type": "code",
      "source": [
        "def test(*a):\n",
        "  print(a)\n",
        "  print(type(a))\n",
        "test(10,20,30)\n",
        "#가변 인수 / *a 값 여러개 받을 수 있음\n",
        "#tuple 타입 "
      ],
      "metadata": {
        "colab": {
          "base_uri": "https://localhost:8080/"
        },
        "id": "3nYzlTP9_8Up",
        "outputId": "933a6d2d-3613-414b-bb7a-2b99899ae648"
      },
      "execution_count": 3,
      "outputs": [
        {
          "output_type": "stream",
          "name": "stdout",
          "text": [
            "(10, 20, 30)\n",
            "<class 'tuple'>\n"
          ]
        }
      ]
    },
    {
      "cell_type": "code",
      "source": [
        "def varfunc(*args):\n",
        "  print(args)\n",
        "print(\"하나의 값으로 호출\")\n",
        "varfunc(10)\n",
        "\n",
        "print(\"여러 값 호출\")\n",
        "varfunc(10,20,30)"
      ],
      "metadata": {
        "colab": {
          "base_uri": "https://localhost:8080/"
        },
        "id": "5xPEBMumCBlN",
        "outputId": "af40486a-9d7f-4810-d6cf-82fb13460f69"
      },
      "execution_count": 5,
      "outputs": [
        {
          "output_type": "stream",
          "name": "stdout",
          "text": [
            "하나의 값으로 호출\n",
            "(10,)\n",
            "여러 값 호출\n",
            "(10, 20, 30)\n"
          ]
        }
      ]
    },
    {
      "cell_type": "code",
      "source": [
        "a = {\"하나\":1, \"둘\":2 ,\"셋\":3}\n",
        "print(a)\n",
        "print(type(a))\n",
        "print(a[\"하나\"])\n",
        "print(a.values())\n",
        "print(a.keys())"
      ],
      "metadata": {
        "colab": {
          "base_uri": "https://localhost:8080/"
        },
        "id": "FOck8pzuCa-A",
        "outputId": "4ac6bd64-ccbb-4fe5-b40a-1193de7f7034"
      },
      "execution_count": 11,
      "outputs": [
        {
          "output_type": "stream",
          "name": "stdout",
          "text": [
            "{'하나': 1, '둘': 2, '셋': 3}\n",
            "<class 'dict'>\n",
            "1\n",
            "dict_values([1, 2, 3])\n",
            "dict_keys(['하나', '둘', '셋'])\n"
          ]
        }
      ]
    },
    {
      "cell_type": "code",
      "source": [
        "#eval 정수로 "
      ],
      "metadata": {
        "id": "e1tjo0RhVmpe"
      },
      "execution_count": null,
      "outputs": []
    },
    {
      "cell_type": "code",
      "source": [
        "#팩토리얼 계산\n",
        "\n",
        "def factorial(n):\n",
        "  if n == 1:\n",
        "    return(1)\n",
        "  else:\n",
        "    return n * factorial(n-1)\n",
        "\n",
        "n = eval(input(\"정수입력\"))\n",
        "print(n,\"!=\",factorial(n))"
      ],
      "metadata": {
        "colab": {
          "base_uri": "https://localhost:8080/"
        },
        "id": "GM5v4e5sWgc3",
        "outputId": "f66f1550-82dd-4e3c-cf48-42bef309a5c6"
      },
      "execution_count": 15,
      "outputs": [
        {
          "output_type": "stream",
          "name": "stdout",
          "text": [
            "정수입력10\n",
            "10 != 3628800\n"
          ]
        }
      ]
    },
    {
      "cell_type": "code",
      "source": [
        "# 함수안에서 전역 변수 변경하기\n",
        "\n",
        "gx = 100\n",
        "g = 200\n",
        "def myfunc():\n",
        "  global gx  # 전역 변수 gx를 사용한다\n",
        "  gx = g\n",
        "  print(gx)\n",
        "\n",
        "myfunc()\n",
        "print(gx)"
      ],
      "metadata": {
        "colab": {
          "base_uri": "https://localhost:8080/"
        },
        "id": "Uo9sDiZyW_8B",
        "outputId": "bf3ccf5e-1fe9-4899-d6db-fea4d0cb71f4"
      },
      "execution_count": 16,
      "outputs": [
        {
          "output_type": "stream",
          "name": "stdout",
          "text": [
            "200\n",
            "200\n"
          ]
        }
      ]
    },
    {
      "cell_type": "code",
      "source": [
        "questions = [\"name\", \"quest\",\"color\"]\n",
        "answers = [\"Kim\", \"파이썬\" , \"blue\"]\n",
        "\n",
        "for q,a in zip(questions, answers) :\n",
        "  print(f\"What is your {q}? It is {a}\")"
      ],
      "metadata": {
        "colab": {
          "base_uri": "https://localhost:8080/"
        },
        "id": "oeqYRheC5age",
        "outputId": "3fdeb811-0270-4840-fbe0-8d4b288683b2"
      },
      "execution_count": 1,
      "outputs": [
        {
          "output_type": "stream",
          "name": "stdout",
          "text": [
            "What is your name? It is Kim\n",
            "What is your quest? It is 파이썬\n",
            "What is your color? It is blue\n"
          ]
        }
      ]
    },
    {
      "cell_type": "code",
      "source": [
        "#append()\n",
        "#insert(1, \"\" )\n",
        "#pop(i) 인데스 기반 삭제\n",
        "#remove(value) 값 기반 삭제\n",
        "#list.sort() 리스트 정렬\n",
        "#lsit.remove(max(list))\n",
        "#"
      ],
      "metadata": {
        "id": "tNlNo3yG6BgW"
      },
      "execution_count": null,
      "outputs": []
    },
    {
      "cell_type": "code",
      "source": [
        "# 제거전 = [10.0 , 9.0 , 8.3 , 7.1 , 3.0 , 9.0]\n",
        "# 제거후 = [9.0 , 8.3 , 7.1 , 9.0]\n",
        "\n",
        "scores = [10.0, 9.0 ,8.3, 7.1 , 3.0 , 9.0]\n",
        "print(\"제거전\", scores)\n",
        "scores.remove(max(scores))\n",
        "scores.remove(min(scores))\n",
        "print(\"제거후\", scores)"
      ],
      "metadata": {
        "colab": {
          "base_uri": "https://localhost:8080/"
        },
        "id": "UfV7uLjL8XmR",
        "outputId": "e558a2c2-c87b-4616-e8c6-3d2520293bdd"
      },
      "execution_count": 5,
      "outputs": [
        {
          "output_type": "stream",
          "name": "stdout",
          "text": [
            "제거전 [10.0, 9.0, 8.3, 7.1, 3.0, 9.0]\n",
            "제거후 [9.0, 8.3, 7.1, 9.0]\n"
          ]
        }
      ]
    },
    {
      "cell_type": "code",
      "source": [
        "squares = []\n",
        "\n",
        "for x in range(10):\n",
        "  squares.append(x*x)\n",
        "\n",
        "\n",
        "squares1 = [x*x for x in range(10)]\n",
        "\n",
        "print(squares)\n",
        "\n",
        "print(squares1)"
      ],
      "metadata": {
        "colab": {
          "base_uri": "https://localhost:8080/"
        },
        "id": "dpExKHZiBpPp",
        "outputId": "0e152a83-6651-4cc6-c1e1-5a8e20a64fb2"
      },
      "execution_count": 7,
      "outputs": [
        {
          "output_type": "stream",
          "name": "stdout",
          "text": [
            "[0, 1, 4, 9, 16, 25, 36, 49, 64, 81]\n",
            "[0, 1, 4, 9, 16, 25, 36, 49, 64, 81]\n"
          ]
        }
      ]
    },
    {
      "cell_type": "code",
      "source": [
        "prices = [135, -545, 922, 356, -992, 217]\n",
        "mprices = [ i if i > 0 else 0 for i in prices]\n",
        "mprices"
      ],
      "metadata": {
        "colab": {
          "base_uri": "https://localhost:8080/"
        },
        "id": "eN2u5o5UCX2_",
        "outputId": "2d417e84-658c-430a-8619-3fa099c8ec69"
      },
      "execution_count": 8,
      "outputs": [
        {
          "output_type": "execute_result",
          "data": {
            "text/plain": [
              "[135, 0, 922, 356, 0, 217]"
            ]
          },
          "metadata": {},
          "execution_count": 8
        }
      ]
    },
    {
      "cell_type": "code",
      "source": [
        "words = [\"All\", \"good\", \"things\", \"must\", \"come\", \"to\",\"an\",\"end.\"]\n",
        "letters = [ w[0] for w in words]\n",
        "letters"
      ],
      "metadata": {
        "colab": {
          "base_uri": "https://localhost:8080/"
        },
        "id": "G6cM_OznEGUS",
        "outputId": "df61da81-16df-4887-de8a-1970f9c70903"
      },
      "execution_count": 10,
      "outputs": [
        {
          "output_type": "execute_result",
          "data": {
            "text/plain": [
              "['A', 'g', 't', 'm', 'c', 't', 'a', 'e']"
            ]
          },
          "metadata": {},
          "execution_count": 10
        }
      ]
    },
    {
      "cell_type": "code",
      "source": [
        "numbers = [x + y for x in ['a','b','c'] for y in ['x','y','z']]\n",
        "numbers"
      ],
      "metadata": {
        "colab": {
          "base_uri": "https://localhost:8080/"
        },
        "id": "edwJskx9EXNG",
        "outputId": "c8648a59-75a0-4a16-db9a-6ac66e7f504c"
      },
      "execution_count": 11,
      "outputs": [
        {
          "output_type": "execute_result",
          "data": {
            "text/plain": [
              "['ax', 'ay', 'az', 'bx', 'by', 'bz', 'cx', 'cy', 'cz']"
            ]
          },
          "metadata": {},
          "execution_count": 11
        }
      ]
    }
  ]
}