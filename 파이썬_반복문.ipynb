{
  "nbformat": 4,
  "nbformat_minor": 0,
  "metadata": {
    "colab": {
      "provenance": [],
      "include_colab_link": true
    },
    "kernelspec": {
      "name": "python3",
      "display_name": "Python 3"
    },
    "language_info": {
      "name": "python"
    }
  },
  "cells": [
    {
      "cell_type": "markdown",
      "metadata": {
        "id": "view-in-github",
        "colab_type": "text"
      },
      "source": [
        "<a href=\"https://colab.research.google.com/github/seongbeop/python_study/blob/main/%ED%8C%8C%EC%9D%B4%EC%8D%AC_%EB%B0%98%EB%B3%B5%EB%AC%B8.ipynb\" target=\"_parent\"><img src=\"https://colab.research.google.com/assets/colab-badge.svg\" alt=\"Open In Colab\"/></a>"
      ]
    },
    {
      "cell_type": "markdown",
      "source": [
        "01\n",
        "\n",
        "for문의 실행결과를 예측하라.\n",
        "\n",
        "```\n",
        "과일 = [\"사과\", \"귤\", \"수박\"]\n",
        "for 변수 in 과일:\n",
        "    print(변수)\n",
        "\n",
        "```"
      ],
      "metadata": {
        "id": "nj3TlapiH5L7"
      }
    },
    {
      "cell_type": "code",
      "source": [
        "과일 = [\"사과\", \"귤\", \"수박\"]\n",
        "for 변수 in 과일:\n",
        "    print(변수)"
      ],
      "metadata": {
        "id": "daXA4ISFH4t-",
        "colab": {
          "base_uri": "https://localhost:8080/"
        },
        "outputId": "987b2e99-e397-4852-a072-e5bbe323a3cb"
      },
      "execution_count": null,
      "outputs": [
        {
          "output_type": "stream",
          "name": "stdout",
          "text": [
            "사과\n",
            "귤\n",
            "수박\n"
          ]
        }
      ]
    },
    {
      "cell_type": "markdown",
      "source": [
        "02\n",
        "\n",
        "for문의 실행결과를 예측하라.\n",
        "\n",
        "```\n",
        "과일 = [\"사과\", \"귤\", \"수박\"]\n",
        "for 변수 in 과일:\n",
        "  print(\"#####\")\n",
        "```"
      ],
      "metadata": {
        "id": "-IlHn2gZIZd_"
      }
    },
    {
      "cell_type": "code",
      "execution_count": null,
      "metadata": {
        "id": "D1wrhEPoH0q4",
        "colab": {
          "base_uri": "https://localhost:8080/"
        },
        "outputId": "127047f9-2f40-4460-94bc-6781595b87af"
      },
      "outputs": [
        {
          "output_type": "stream",
          "name": "stdout",
          "text": [
            "#####\n",
            "#####\n",
            "#####\n"
          ]
        }
      ],
      "source": [
        "과일 = [\"사과\", \"귤\", \"수박\"]\n",
        "for 변수 in 과일:\n",
        "  print(\"#####\")"
      ]
    },
    {
      "cell_type": "markdown",
      "source": [
        "03\n",
        "\n",
        "다음 for 문과 동일한 기능을 수행하는 코드를 작성하세요.\n",
        "\n",
        "```\n",
        "for 변수 in [\"A\", \"B\", \"C\"]:\n",
        "  print(변수)\n",
        "```"
      ],
      "metadata": {
        "id": "y63R3vi1Ie9-"
      }
    },
    {
      "cell_type": "code",
      "source": [
        "st = [\"A\",\"B\",\"C\"]\n",
        "for i in range(3):\n",
        "  print(st[i])\n"
      ],
      "metadata": {
        "id": "HVfkYSGSIiUd",
        "colab": {
          "base_uri": "https://localhost:8080/"
        },
        "outputId": "7df3ee4e-67ea-4349-cc9f-6da379ebe150"
      },
      "execution_count": null,
      "outputs": [
        {
          "output_type": "stream",
          "name": "stdout",
          "text": [
            "A\n",
            "B\n",
            "C\n"
          ]
        }
      ]
    },
    {
      "cell_type": "markdown",
      "source": [
        "04\n",
        "\n",
        "for문을 풀어서 동일한 동작을하는 코드를 작성하라.\n",
        "\n",
        "```\n",
        "for 변수 in [\"A\", \"B\", \"C\"]:\n",
        "  print(\"출력:\", 변수)\n",
        "```"
      ],
      "metadata": {
        "id": "ugFsFUIOIjV2"
      }
    },
    {
      "cell_type": "code",
      "source": [
        "st1 = [\"A\", \"B\", \"C\"]\n",
        "for i in range(3) : \n",
        "  print(\"출력 :\" , st1[i] )"
      ],
      "metadata": {
        "id": "5elfVCaGIlu5",
        "colab": {
          "base_uri": "https://localhost:8080/"
        },
        "outputId": "d0a26544-5e37-44d4-f902-ba5b175e92ef"
      },
      "execution_count": null,
      "outputs": [
        {
          "output_type": "stream",
          "name": "stdout",
          "text": [
            "출력 : A\n",
            "출력 : B\n",
            "출력 : C\n"
          ]
        }
      ]
    },
    {
      "cell_type": "markdown",
      "source": [
        "05\n",
        "\n",
        "for문을 풀어서 동일한 동작을 하는 코드를 작성하라.\n",
        "\n",
        "```\n",
        "for 변수 in [\"A\", \"B\", \"C\"]:\n",
        "  b = 변수.lower()\n",
        "  print(\"변환:\", b)\n",
        "```"
      ],
      "metadata": {
        "id": "LnsnBSOdInw9"
      }
    },
    {
      "cell_type": "code",
      "source": [
        "for s1 in [\"A\", \"B\", \"C\"]:\n",
        "  s2 = s1.lower()\n",
        "  print(\"변환:\", s2)\n"
      ],
      "metadata": {
        "id": "1ngoFd7EIrAo",
        "colab": {
          "base_uri": "https://localhost:8080/"
        },
        "outputId": "0ce47dfe-21a2-4f98-9e53-c0ebd1e33ce3"
      },
      "execution_count": null,
      "outputs": [
        {
          "output_type": "stream",
          "name": "stdout",
          "text": [
            "변환: a\n",
            "변환: b\n",
            "변환: c\n"
          ]
        }
      ]
    },
    {
      "cell_type": "markdown",
      "source": [
        "06\n",
        "\n",
        "다음 코드를 for문으로 작성하라.\n",
        "\n",
        "```\n",
        "변수 = 10\n",
        "print(변수)\n",
        "변수 = 20\n",
        "print(변수)\n",
        "변수 = 30\n",
        "print(변수)\n",
        "```"
      ],
      "metadata": {
        "id": "fWee8nxXItat"
      }
    },
    {
      "cell_type": "code",
      "source": [
        "for 변수 in [10, 20, 30]:\n",
        "  print(\"변수 = \" , 변수)\n",
        "  print(\"print(변수)\")\n",
        "\n",
        "\n",
        "for j in range(10, 31, 10):\n",
        "  print(j)"
      ],
      "metadata": {
        "id": "Ts11q_cRIw7Q",
        "colab": {
          "base_uri": "https://localhost:8080/"
        },
        "outputId": "1fc4d79f-d143-4e65-e6f6-cf25081ca9eb"
      },
      "execution_count": null,
      "outputs": [
        {
          "output_type": "stream",
          "name": "stdout",
          "text": [
            "변수 =  10\n",
            "print(변수)\n",
            "변수 =  20\n",
            "print(변수)\n",
            "변수 =  30\n",
            "print(변수)\n",
            "10\n",
            "20\n",
            "30\n"
          ]
        }
      ]
    },
    {
      "cell_type": "markdown",
      "source": [
        "07\n",
        "\n",
        "다음 코드를 for문으로 작성하라.\n",
        "\n",
        "```\n",
        "print(10)\n",
        "print(20)\n",
        "print(30)\n",
        "```"
      ],
      "metadata": {
        "id": "JVBw3URdIyd4"
      }
    },
    {
      "cell_type": "code",
      "source": [
        "for i in [10,20,30] : \n",
        "  print(i)"
      ],
      "metadata": {
        "id": "XLvKeXuiI2HH",
        "colab": {
          "base_uri": "https://localhost:8080/"
        },
        "outputId": "c42176b0-4aa3-4502-b32c-efd681563aa5"
      },
      "execution_count": null,
      "outputs": [
        {
          "output_type": "stream",
          "name": "stdout",
          "text": [
            "10\n",
            "20\n",
            "30\n"
          ]
        }
      ]
    },
    {
      "cell_type": "markdown",
      "source": [
        "08\n",
        "\n",
        "다음 코드를 for문으로 작성하라.\n",
        "\n",
        "```\n",
        "print(10)\n",
        "print(\"-------\")\n",
        "print(20)\n",
        "print(\"-------\")\n",
        "print(30)\n",
        "print(\"-------\")\n",
        "```"
      ],
      "metadata": {
        "id": "2sDzJxplI3Jx"
      }
    },
    {
      "cell_type": "code",
      "source": [
        "for i in [10,20,30] : \n",
        "  print(i)\n",
        "  print(\"------\")"
      ],
      "metadata": {
        "id": "z-XVoPVcI6s3",
        "colab": {
          "base_uri": "https://localhost:8080/"
        },
        "outputId": "3ac36909-0329-49b2-c27b-d1572bba8346"
      },
      "execution_count": null,
      "outputs": [
        {
          "output_type": "stream",
          "name": "stdout",
          "text": [
            "10\n",
            "------\n",
            "20\n",
            "------\n",
            "30\n",
            "------\n"
          ]
        }
      ]
    },
    {
      "cell_type": "markdown",
      "source": [
        "09\n",
        "\n",
        "다음 코드를 for문으로 작성하라.\n",
        "\n",
        "```\n",
        "print(\"++++\")\n",
        "print(10)\n",
        "print(20)\n",
        "print(30)\n",
        "```"
      ],
      "metadata": {
        "id": "0oFn1hEnI-Y4"
      }
    },
    {
      "cell_type": "code",
      "source": [
        "print(\"++++\")\n",
        "\n",
        "for i in [10,20,30] : \n",
        "  print(i)\n",
        "  "
      ],
      "metadata": {
        "id": "2EHBT0GUJAa3",
        "colab": {
          "base_uri": "https://localhost:8080/"
        },
        "outputId": "04cae354-7213-4aec-d203-56bda55e9cc0"
      },
      "execution_count": null,
      "outputs": [
        {
          "output_type": "stream",
          "name": "stdout",
          "text": [
            "++++\n",
            "10\n",
            "20\n",
            "30\n"
          ]
        }
      ]
    },
    {
      "cell_type": "markdown",
      "source": [
        "10\n",
        "\n",
        "다음 코드를 for문으로 작성하라.\n",
        "\n",
        "```\n",
        "print(\"-------\")\n",
        "print(\"-------\")\n",
        "print(\"-------\")\n",
        "print(\"-------\")\n",
        "```"
      ],
      "metadata": {
        "id": "s27YnAUAJB1q"
      }
    },
    {
      "cell_type": "code",
      "source": [
        "for i in range(4):\n",
        "  print(\"-------\")"
      ],
      "metadata": {
        "id": "s5YJV3lDJDwW",
        "colab": {
          "base_uri": "https://localhost:8080/"
        },
        "outputId": "69e48370-ea50-462e-9897-c423e681939c"
      },
      "execution_count": null,
      "outputs": [
        {
          "output_type": "stream",
          "name": "stdout",
          "text": [
            "-------\n",
            "-------\n",
            "-------\n",
            "-------\n"
          ]
        }
      ]
    },
    {
      "cell_type": "markdown",
      "source": [
        "11\n",
        "\n",
        "다음과 같이 판매가가 저장된 리스트가 있을 때 부가세가 포함된 가격을 for 문을 사용해서 화면에 출력하라. 단 부가세는 10원으로 가정한다.\n",
        "\n",
        "```\n",
        "리스트 = [100, 200, 300]\n",
        "```\n",
        "```\n",
        "110\n",
        "210\n",
        "310\n",
        "```"
      ],
      "metadata": {
        "id": "UvtyvvC0JH5i"
      }
    },
    {
      "cell_type": "code",
      "source": [
        "\n",
        "\n",
        "for i in [100,200,300] : \n",
        "  print(int(i)+10)\n",
        "  print(i+10)\n",
        "  print(type(i))"
      ],
      "metadata": {
        "id": "VDjvFSV3JMHP",
        "colab": {
          "base_uri": "https://localhost:8080/"
        },
        "outputId": "63b33973-2e3e-44bc-9281-0604038297aa"
      },
      "execution_count": null,
      "outputs": [
        {
          "output_type": "stream",
          "name": "stdout",
          "text": [
            "110\n",
            "110\n",
            "<class 'int'>\n",
            "210\n",
            "210\n",
            "<class 'int'>\n",
            "310\n",
            "310\n",
            "<class 'int'>\n"
          ]
        }
      ]
    },
    {
      "cell_type": "markdown",
      "source": [
        "12\n",
        "\n",
        "for 문을 사용해서 리스트에 저장된 값을 다음과 같이 출력하라.\n",
        "```\n",
        "리스트 = [\"김밥\", \"라면\", \"튀김\"]\n",
        "```\n",
        "```\n",
        "오늘의 메뉴: 김밥\n",
        "오늘의 메뉴: 라면\n",
        "오늘의 메뉴: 튀김\n",
        "```"
      ],
      "metadata": {
        "id": "9vHlClebJNW_"
      }
    },
    {
      "cell_type": "code",
      "source": [
        "for i in [\"김밥\",\"리면\",\"튀김\"] : \n",
        "  print(\"오늘의 메뉴 :\",i)"
      ],
      "metadata": {
        "id": "cRjsTI40JP-n",
        "colab": {
          "base_uri": "https://localhost:8080/"
        },
        "outputId": "83ee2571-15b8-4ea4-e568-8b15f5760131"
      },
      "execution_count": null,
      "outputs": [
        {
          "output_type": "stream",
          "name": "stdout",
          "text": [
            "오늘의 메뉴 : 김밥\n",
            "오늘의 메뉴 : 리면\n",
            "오늘의 메뉴 : 튀김\n"
          ]
        }
      ]
    },
    {
      "cell_type": "markdown",
      "source": [
        "13\n",
        "\n",
        "리스트에 주식 종목이름이 저장돼 있다.\n",
        "\n",
        "```\n",
        "리스트 = [\"SK하이닉스\", \"삼성전자\", \"LG전자\"]\n",
        "```\n",
        "\n",
        "저장된 문자열의 길이를 다음과 같이 출력하라.\n",
        "```\n",
        "6\n",
        "4\n",
        "4\n",
        "```"
      ],
      "metadata": {
        "id": "ta3rV3l5JSAp"
      }
    },
    {
      "cell_type": "code",
      "source": [
        "# list1 = [\"SK하이닉스\",\"삼성전자\",\"LG전자\"]\n",
        "\n",
        "# for list1 in range(3) : \n",
        "#   print(list1)\n",
        "\n",
        "\n",
        "for i in [\"SK하이닉스\",\"삼성전자\",\"LG전자\"] : \n",
        "    print(len(i))"
      ],
      "metadata": {
        "id": "sUHH3BZVJVU-",
        "colab": {
          "base_uri": "https://localhost:8080/"
        },
        "outputId": "0684be73-4298-4b32-cc94-d81a47bba1b6"
      },
      "execution_count": null,
      "outputs": [
        {
          "output_type": "stream",
          "name": "stdout",
          "text": [
            "6\n",
            "4\n",
            "4\n"
          ]
        }
      ]
    },
    {
      "cell_type": "markdown",
      "source": [
        "14\n",
        "\n",
        "리스트에는 동물이름이 문자열로 저장돼 있다.\n",
        "\n",
        "```\n",
        "리스트 = ['dog', 'cat', 'parrot']\n",
        "```\n",
        "\n",
        "동물 이름과 글자수를 다음과 같이 출력하라.\n",
        "\n",
        "```\n",
        "dog 3\n",
        "cat 3\n",
        "parrot 6\n",
        "```"
      ],
      "metadata": {
        "id": "a2CPgXHkJW9L"
      }
    },
    {
      "cell_type": "code",
      "source": [
        "\n",
        "for i in [\"dog\",\"cat\",\"parrot\"] : \n",
        "    print(i,len(i))"
      ],
      "metadata": {
        "id": "EWHBV3YaJdLn",
        "colab": {
          "base_uri": "https://localhost:8080/"
        },
        "outputId": "b9f8fe66-97a7-4b2a-b129-93dfc43062c4"
      },
      "execution_count": null,
      "outputs": [
        {
          "output_type": "stream",
          "name": "stdout",
          "text": [
            "dog 3\n",
            "cat 3\n",
            "parrot 6\n"
          ]
        }
      ]
    },
    {
      "cell_type": "markdown",
      "source": [
        "15\n",
        "\n",
        "리스트에 동물 이름 저장돼 있다.\n",
        "\n",
        "```\n",
        "리스트 = ['dog', 'cat', 'parrot']\n",
        "```\n",
        "for문을 사용해서 동물 이름의 첫 글자만 출력하라.\n",
        "```\n",
        "d\n",
        "c\n",
        "p\n",
        "```"
      ],
      "metadata": {
        "id": "F9XzfitTJfKo"
      }
    },
    {
      "cell_type": "code",
      "source": [
        "for i in [\"dog\",\"cat\",\"parrot\"] : \n",
        "    print(i[0])"
      ],
      "metadata": {
        "id": "snm3tWIjJhd-",
        "colab": {
          "base_uri": "https://localhost:8080/"
        },
        "outputId": "ed16337d-21d8-4754-b223-69a36a25db80"
      },
      "execution_count": null,
      "outputs": [
        {
          "output_type": "stream",
          "name": "stdout",
          "text": [
            "d\n",
            "c\n",
            "p\n"
          ]
        }
      ]
    },
    {
      "cell_type": "markdown",
      "source": [
        "16\n",
        "\n",
        "리스트에는 세 개의 숫자가 바인딩돼 있다.\n",
        "\n",
        "```\n",
        "리스트 = [1, 2, 3]\n",
        "```\n",
        "\n",
        "for문을 사용해서 다음과 같이 출력하라.\n",
        "```\n",
        "3 x 1\n",
        "3 x 2\n",
        "3 x 3\n",
        "```"
      ],
      "metadata": {
        "id": "hAynRh5oJkoC"
      }
    },
    {
      "cell_type": "code",
      "source": [
        "for i in [\"1\",\"2\",\"3\"] : \n",
        "    print(\"3 x\",i)"
      ],
      "metadata": {
        "id": "bp3yhyIhJnu2",
        "colab": {
          "base_uri": "https://localhost:8080/"
        },
        "outputId": "10a1c7c2-7d67-4e32-cbf3-9ae8a588018a"
      },
      "execution_count": null,
      "outputs": [
        {
          "output_type": "stream",
          "name": "stdout",
          "text": [
            "3 x 1\n",
            "3 x 2\n",
            "3 x 3\n"
          ]
        }
      ]
    },
    {
      "cell_type": "markdown",
      "source": [
        "17\n",
        "\n",
        "리스트에는 세 개의 숫자가 바인딩돼 있다.\n",
        "\n",
        "```\n",
        "리스트 = [1, 2, 3]\n",
        "```\n",
        "for문을 사용해서 다음과 같이 출력하라.\n",
        "```\n",
        "3 x 1 = 3\n",
        "3 x 2 = 6\n",
        "3 x 3 = 9\n",
        "```"
      ],
      "metadata": {
        "id": "YQVozpP8JpUa"
      }
    },
    {
      "cell_type": "code",
      "source": [
        "for i in [\"1\",\"2\",\"3\"] : \n",
        "  print(\"3 x\" , i , \" = \", 3*int(i))"
      ],
      "metadata": {
        "id": "nBz6rgCmJsjG",
        "colab": {
          "base_uri": "https://localhost:8080/"
        },
        "outputId": "af153ca1-a47d-493f-bf9a-09318c9ece8f"
      },
      "execution_count": null,
      "outputs": [
        {
          "output_type": "stream",
          "name": "stdout",
          "text": [
            "3 x 1  =  3\n",
            "3 x 2  =  6\n",
            "3 x 3  =  9\n"
          ]
        }
      ]
    },
    {
      "cell_type": "markdown",
      "source": [
        "18\n",
        "\n",
        "리스트에는 네 개의 문자열이 바인딩돼 있다.\n",
        "\n",
        "```\n",
        "리스트 = [\"가\", \"나\", \"다\", \"라\"]\n",
        "```\n",
        "for문을 사용해서 다음과 같이 출력하라.\n",
        "```\n",
        "나\n",
        "다\n",
        "라\n",
        "```"
      ],
      "metadata": {
        "id": "E8QtxaNXJtn6"
      }
    },
    {
      "cell_type": "code",
      "source": [
        "li1 = [\"가\", \"나\", \"다\", \"라\"]\n",
        "li2 = li1[1:]\n",
        "for i in li2 :\n",
        "  print(i)"
      ],
      "metadata": {
        "id": "X7K7V6LCJwuO",
        "colab": {
          "base_uri": "https://localhost:8080/"
        },
        "outputId": "8454b694-338c-4938-cea0-7bbf986eec56"
      },
      "execution_count": null,
      "outputs": [
        {
          "output_type": "stream",
          "name": "stdout",
          "text": [
            "나\n",
            "다\n",
            "라\n"
          ]
        }
      ]
    },
    {
      "cell_type": "markdown",
      "source": [
        "19\n",
        "\n",
        "리스트에는 네 개의 문자열이 바인딩돼 있다.\n",
        "```\n",
        "리스트 = [\"가\", \"나\", \"다\", \"라\"]\n",
        "```\n",
        "for문을 사용해서 다음과 같이 출력하라.\n",
        "```\n",
        "가\n",
        "다\n",
        "```"
      ],
      "metadata": {
        "id": "4iJw6hJ4Jxzv"
      }
    },
    {
      "cell_type": "code",
      "source": [
        "list1 = [\"가\", \"나\", \"다\", \"라\"]\n",
        "list2 = list1[0::2]\n",
        "for i in list2 : \n",
        "  print(i)\n",
        "for j in list1 :\n",
        "  \n",
        "  if j == \"가\" :\n",
        "    print(j)\n",
        "  elif j == \"다\" :\n",
        "    print(j)"
      ],
      "metadata": {
        "id": "E4cprX7uJz8G",
        "colab": {
          "base_uri": "https://localhost:8080/"
        },
        "outputId": "adbd05f8-1909-4d88-b866-15fa8637baf2"
      },
      "execution_count": null,
      "outputs": [
        {
          "output_type": "stream",
          "name": "stdout",
          "text": [
            "가\n",
            "다\n",
            "가\n",
            "다\n"
          ]
        }
      ]
    },
    {
      "cell_type": "markdown",
      "source": [
        "20\n",
        "\n",
        "리스트에는 네 개의 문자열이 바인딩돼 있다.\n",
        "\n",
        "```\n",
        "리스트 = [\"가\", \"나\", \"다\", \"라\"]\n",
        "```\n",
        "for문을 사용해서 다음과 같이 출력하라.\n",
        "```\n",
        "라\n",
        "다\n",
        "나\n",
        "가\n",
        "```"
      ],
      "metadata": {
        "id": "epf3OrxVJ1HF"
      }
    },
    {
      "cell_type": "code",
      "source": [
        "a = [\"가\", \"나\", \"다\", \"라\"]\n",
        "# b = a[::-1]\n",
        "\n",
        "for i in a[::-1] : \n",
        "  print(i)\n"
      ],
      "metadata": {
        "id": "7CwSxNumJ3LW",
        "colab": {
          "base_uri": "https://localhost:8080/"
        },
        "outputId": "8f49ba4b-6ef7-4a93-ef0d-e3c6ccedf247"
      },
      "execution_count": null,
      "outputs": [
        {
          "output_type": "stream",
          "name": "stdout",
          "text": [
            "라\n",
            "다\n",
            "나\n",
            "가\n"
          ]
        }
      ]
    },
    {
      "cell_type": "markdown",
      "source": [
        "21\n",
        "\n",
        "리스트에는 네 개의 정수가 저장돼 있다.\n",
        "\n",
        "```\n",
        "리스트 = [3, -20, -3, 44]\n",
        "```\n",
        "\n",
        "for문을 사용해서 리스트의 음수를 출력하라.\n",
        "```\n",
        "-20\n",
        "-3\n",
        "```"
      ],
      "metadata": {
        "id": "pE9fIqHDJ9s0"
      }
    },
    {
      "cell_type": "code",
      "source": [
        "a = [3, -20, -3, 44]\n",
        "for i in a :\n",
        "  if i < 0 :\n",
        "    print(i)"
      ],
      "metadata": {
        "id": "dqe1ETKvKAlG",
        "colab": {
          "base_uri": "https://localhost:8080/"
        },
        "outputId": "2f1d4267-92c2-4056-9a57-9b0f47413f48"
      },
      "execution_count": null,
      "outputs": [
        {
          "output_type": "stream",
          "name": "stdout",
          "text": [
            "-20\n",
            "-3\n"
          ]
        }
      ]
    },
    {
      "cell_type": "markdown",
      "source": [
        "22\n",
        "\n",
        "for문을 사용해서 3의 배수만을 출력하라.\n",
        "\n",
        "```\n",
        "리스트 = [3, 100, 23, 44]\n",
        "```\n",
        "```\n",
        "3\n",
        "```"
      ],
      "metadata": {
        "id": "rPp1HHYqKCP0"
      }
    },
    {
      "cell_type": "code",
      "source": [
        "a = [3, 100, 23, 44]\n",
        "for i in a :\n",
        "  if i % 3 ==0 :\n",
        "    print(i)"
      ],
      "metadata": {
        "id": "WLQe83TpKE_1",
        "colab": {
          "base_uri": "https://localhost:8080/"
        },
        "outputId": "32f08169-6c94-457e-a2c2-3e0f641ea641"
      },
      "execution_count": null,
      "outputs": [
        {
          "output_type": "stream",
          "name": "stdout",
          "text": [
            "3\n"
          ]
        }
      ]
    },
    {
      "cell_type": "markdown",
      "source": [
        "23\n",
        "\n",
        "리스트에서 20 보다 작은 3의 배수를 출력하라\n",
        "```\n",
        "리스트 = [13, 21, 12, 14, 30, 18]\n",
        "```\n",
        "```\n",
        "12\n",
        "18\n",
        "```"
      ],
      "metadata": {
        "id": "sUimQT4sKGpf"
      }
    },
    {
      "cell_type": "code",
      "source": [
        "a = [13, 21, 12, 14, 30, 18]\n",
        "for i in a :\n",
        "  if (20 > i) and i % 3 == 0  :\n",
        "    print(i)"
      ],
      "metadata": {
        "id": "APlCYIu_KJN0",
        "colab": {
          "base_uri": "https://localhost:8080/"
        },
        "outputId": "fd98d539-436f-41db-feda-6b3799a2586c"
      },
      "execution_count": null,
      "outputs": [
        {
          "output_type": "stream",
          "name": "stdout",
          "text": [
            "12\n",
            "18\n"
          ]
        }
      ]
    },
    {
      "cell_type": "markdown",
      "source": [
        "24\n",
        "\n",
        "리스트에서 세 글자 이상의 문자를 화면에 출력하라\n",
        "\n",
        "```\n",
        "리스트 = [\"I\", \"study\", \"python\", \"language\", \"!\"]\n",
        "```\n",
        "```\n",
        "study\n",
        "python\n",
        "language\n",
        "```"
      ],
      "metadata": {
        "id": "4s0rksTRKKNS"
      }
    },
    {
      "cell_type": "code",
      "source": [
        "a = [\"I\", \"study\", \"python\", \"language\", \"!\"]\n",
        "for i in a :\n",
        "  # if len(a) > 3 :\n",
        "  #   print(i)\n",
        "  # print(i)\n",
        "  if len(i) > 2 :\n",
        "    print(i)"
      ],
      "metadata": {
        "id": "LtTfqvmcKMzU",
        "colab": {
          "base_uri": "https://localhost:8080/"
        },
        "outputId": "1cc10946-7564-4bdc-dcbf-cd7e2ca7c4ae"
      },
      "execution_count": null,
      "outputs": [
        {
          "output_type": "stream",
          "name": "stdout",
          "text": [
            "study\n",
            "python\n",
            "language\n"
          ]
        }
      ]
    },
    {
      "cell_type": "markdown",
      "source": [
        "25\n",
        "\n",
        "리스트에서 대문자만 화면에 출력하라.\n",
        "\n",
        "```\n",
        "리스트 = [\"A\", \"b\", \"c\", \"D\"]\n",
        "```\n",
        "```\n",
        "A\n",
        "D\n",
        "```\n",
        "(참고) isupper() 메서드는 대문자 여부를 판별합니다.\n",
        "```\n",
        ">> 변수 = \"A\"\n",
        ">> 변수.isupper()\n",
        "True\n",
        ">> 변수 = \"a\"\n",
        ">> 변수.isupper()\n",
        "False\n",
        "```"
      ],
      "metadata": {
        "id": "c5I7ebg9KOuC"
      }
    },
    {
      "cell_type": "code",
      "source": [
        "a = [\"A\", \"b\", \"c\", \"D\"]\n",
        "for i in a :\n",
        "  if i.isupper() :\n",
        "    print(i)"
      ],
      "metadata": {
        "id": "onxEPPu0KTIE",
        "colab": {
          "base_uri": "https://localhost:8080/"
        },
        "outputId": "f12498a3-217a-4ac6-e872-6d778ba54fee"
      },
      "execution_count": null,
      "outputs": [
        {
          "output_type": "stream",
          "name": "stdout",
          "text": [
            "A\n",
            "D\n"
          ]
        }
      ]
    },
    {
      "cell_type": "markdown",
      "source": [
        "26\n",
        "\n",
        "리스트에서 소문자만 화면에 출력하라.\n",
        "\n",
        "```\n",
        "리스트 = [\"A\", \"b\", \"c\", \"D\"]\n",
        "```\n",
        "```\n",
        "b\n",
        "c\n",
        "```"
      ],
      "metadata": {
        "id": "pohlP-hLKWR4"
      }
    },
    {
      "cell_type": "code",
      "source": [
        "a = [\"A\", \"b\", \"c\", \"D\"]\n",
        "for i in a :\n",
        "  if i.islower() :\n",
        "    print(i)"
      ],
      "metadata": {
        "id": "fAWX8SMkKZaz",
        "colab": {
          "base_uri": "https://localhost:8080/"
        },
        "outputId": "96c4b268-4243-43f3-a137-83d6e36c6978"
      },
      "execution_count": null,
      "outputs": [
        {
          "output_type": "stream",
          "name": "stdout",
          "text": [
            "b\n",
            "c\n"
          ]
        }
      ]
    },
    {
      "cell_type": "markdown",
      "source": [
        "27\n",
        "\n",
        "이름의 첫 글자를 대문자로 변경해서 출력하라.\n",
        "\n",
        "```\n",
        "리스트 = ['dog', 'cat', 'parrot']\n",
        "```\n",
        "```\n",
        "Dog\n",
        "Cat\n",
        "Parrot\n",
        "```\n",
        "(참고) upper() 메서드는 문자열을 대문자로 변경합니다.\n",
        "```\n",
        ">> 변수 = \"a\"\n",
        ">> a.upper()\n",
        "A\n",
        ">> 변수 = \"abc\"\n",
        ">> 변수.upper()\n",
        "ABC\n",
        "```"
      ],
      "metadata": {
        "id": "Ha1hzXzgKa4-"
      }
    },
    {
      "cell_type": "code",
      "source": [
        "a = ['dog', 'cat', 'parrot']\n",
        "for i in a :\n",
        "  print(i[0].upper()+i[1:])\n",
        "  "
      ],
      "metadata": {
        "id": "QI-6JVfEKesL",
        "colab": {
          "base_uri": "https://localhost:8080/"
        },
        "outputId": "a96158f7-20ba-42ea-cccb-996a824f081b"
      },
      "execution_count": null,
      "outputs": [
        {
          "output_type": "stream",
          "name": "stdout",
          "text": [
            "Dog\n",
            "Cat\n",
            "Parrot\n"
          ]
        }
      ]
    },
    {
      "cell_type": "markdown",
      "source": [
        "28\n",
        "\n",
        "파일 이름이 저장된 리스트에서 확장자를 제거하고 파일 이름만 화면에 출력하라. (힌트: split() 메서드)\n",
        "\n",
        "```\n",
        "리스트 = ['hello.py', 'ex01.py', 'intro.hwp']\n",
        "```\n",
        "```\n",
        "hello\n",
        "ex01\n",
        "intro\n",
        "```"
      ],
      "metadata": {
        "id": "K6BlXeW-KgkB"
      }
    },
    {
      "cell_type": "code",
      "source": [
        "# a = ['hello.py', 'ex01.py', 'intro.hwp']\n",
        "\n",
        "# for i in a :\n",
        "#   b = i.split(\".\")\n",
        "#   print(b)\n",
        "\n",
        "a = ['hello.py', 'ex01.py', 'intro.hwp']\n",
        "\n",
        "for i in a :\n",
        "  b = i.split(\".\")\n",
        "  print(b[0])\n",
        "\n",
        "for j in a :\n",
        "  print(j.split(\".\")[0])"
      ],
      "metadata": {
        "id": "6qUacxDKKku7",
        "colab": {
          "base_uri": "https://localhost:8080/"
        },
        "outputId": "82980c93-9a45-4b7e-e7b6-a4b0981e784a"
      },
      "execution_count": null,
      "outputs": [
        {
          "output_type": "stream",
          "name": "stdout",
          "text": [
            "hello\n",
            "ex01\n",
            "intro\n",
            "hello\n",
            "ex01\n",
            "intro\n"
          ]
        }
      ]
    },
    {
      "cell_type": "markdown",
      "source": [
        "29\n",
        "파일 이름이 저장된 리스트에서 확장자가 .h인 파일 이름을 출력하라.\n",
        "\n",
        "```\n",
        "리스트 = ['intra.h', 'intra.c', 'define.h', 'run.py']\n",
        "```\n",
        "```\n",
        "intra.h\n",
        "define.h\n",
        "```"
      ],
      "metadata": {
        "id": "W-AMGKPBKl-5"
      }
    },
    {
      "cell_type": "code",
      "source": [
        "# a = ['intra.h', 'intra.c', 'define.h', 'run.py']\n",
        "# for i in a : \n",
        "#   b = i.split(\".\")\n",
        "#   if b[1] == h :\n",
        "#     print(i)\n",
        "\n",
        "a = ['intra.h', 'intra.c', 'define.h', 'run.py']\n",
        "for i in a : \n",
        "  b = i.split(\".\")\n",
        "  if b[1] == \"h\" :\n",
        "    print(i)\n",
        "\n",
        "for j in a :\n",
        "  if j.split(\".\")[1] == \"h\" :\n",
        "    print(j)"
      ],
      "metadata": {
        "id": "RNTWAoItKoV7",
        "colab": {
          "base_uri": "https://localhost:8080/"
        },
        "outputId": "5588e2c7-6765-400d-bc94-344c7a3ae3bc"
      },
      "execution_count": null,
      "outputs": [
        {
          "output_type": "stream",
          "name": "stdout",
          "text": [
            "intra.h\n",
            "define.h\n",
            "intra.h\n",
            "define.h\n"
          ]
        }
      ]
    },
    {
      "cell_type": "markdown",
      "source": [
        "30\n",
        "파일 이름이 저장된 리스트에서 확장자가 .h나 .c인 파일을 화면에 출력하라.\n",
        "\n",
        "```\n",
        "리스트 = ['intra.h', 'intra.c', 'define.h', 'run.py']\n",
        "```\n",
        "```\n",
        "intra.h\n",
        "intra.c\n",
        "define.h\n",
        "```"
      ],
      "metadata": {
        "id": "GxnB0sOfKpZx"
      }
    },
    {
      "cell_type": "code",
      "source": [
        "a = ['intra.h', 'intra.c', 'define.h', 'run.py']\n",
        "\n",
        "for i in a  :\n",
        "  b = i.split(\".\")\n",
        "  if b[1] == \"h\" or b[1] == \"c\" :\n",
        "    print(i) \n"
      ],
      "metadata": {
        "id": "gw7SzLG3KuNa",
        "colab": {
          "base_uri": "https://localhost:8080/"
        },
        "outputId": "622fbc57-5962-475b-b0a8-19a39081ae5a"
      },
      "execution_count": null,
      "outputs": [
        {
          "output_type": "stream",
          "name": "stdout",
          "text": [
            "intra.h\n",
            "intra.c\n",
            "define.h\n"
          ]
        }
      ]
    },
    {
      "cell_type": "markdown",
      "source": [
        "31\n",
        "\n",
        "for문과 range 구문을 사용해서 0~99까지 한 라인에 하나씩 순차적으로 출력하는 프로그램을 작성하라."
      ],
      "metadata": {
        "id": "N86eI1PPKyP-"
      }
    },
    {
      "cell_type": "code",
      "source": [
        "for i in range(100) :\n",
        "  print(i)"
      ],
      "metadata": {
        "id": "5W6zECT9Kz-S",
        "colab": {
          "base_uri": "https://localhost:8080/"
        },
        "outputId": "31925ea4-3d67-4cdd-e867-ad8d251eb2f5"
      },
      "execution_count": null,
      "outputs": [
        {
          "output_type": "stream",
          "name": "stdout",
          "text": [
            "0\n",
            "1\n",
            "2\n",
            "3\n",
            "4\n",
            "5\n",
            "6\n",
            "7\n",
            "8\n",
            "9\n",
            "10\n",
            "11\n",
            "12\n",
            "13\n",
            "14\n",
            "15\n",
            "16\n",
            "17\n",
            "18\n",
            "19\n",
            "20\n",
            "21\n",
            "22\n",
            "23\n",
            "24\n",
            "25\n",
            "26\n",
            "27\n",
            "28\n",
            "29\n",
            "30\n",
            "31\n",
            "32\n",
            "33\n",
            "34\n",
            "35\n",
            "36\n",
            "37\n",
            "38\n",
            "39\n",
            "40\n",
            "41\n",
            "42\n",
            "43\n",
            "44\n",
            "45\n",
            "46\n",
            "47\n",
            "48\n",
            "49\n",
            "50\n",
            "51\n",
            "52\n",
            "53\n",
            "54\n",
            "55\n",
            "56\n",
            "57\n",
            "58\n",
            "59\n",
            "60\n",
            "61\n",
            "62\n",
            "63\n",
            "64\n",
            "65\n",
            "66\n",
            "67\n",
            "68\n",
            "69\n",
            "70\n",
            "71\n",
            "72\n",
            "73\n",
            "74\n",
            "75\n",
            "76\n",
            "77\n",
            "78\n",
            "79\n",
            "80\n",
            "81\n",
            "82\n",
            "83\n",
            "84\n",
            "85\n",
            "86\n",
            "87\n",
            "88\n",
            "89\n",
            "90\n",
            "91\n",
            "92\n",
            "93\n",
            "94\n",
            "95\n",
            "96\n",
            "97\n",
            "98\n",
            "99\n"
          ]
        }
      ]
    },
    {
      "cell_type": "markdown",
      "source": [
        "32\n",
        "\n",
        "월드컵은 4년에 한 번 개최된다. range()를 사용하여 2002~2050년까지 중 월드컵이 개최되는 연도를 출력하라.\n",
        "\n",
        "```\n",
        "2002\n",
        "2006\n",
        "2010\n",
        "...\n",
        "2042\n",
        "2046\n",
        "2050\n",
        "```\n",
        "참고) range의 세번 째 파라미터는 증감폭을 결정합니다.\n",
        "```\n",
        ">> print(list(range(0, 10, 2)))\n",
        "[0, 2, 4, 6, 8]\n",
        "```"
      ],
      "metadata": {
        "id": "OLQV0U2tK0pv"
      }
    },
    {
      "cell_type": "code",
      "source": [
        "for i in range(2002,2051,4) :\n",
        "  print(i)\n",
        "\n",
        "print(list(range(2002,2051,4)))"
      ],
      "metadata": {
        "id": "xwcDf1hlK5Mq",
        "colab": {
          "base_uri": "https://localhost:8080/"
        },
        "outputId": "6947d864-49d4-4645-c164-f848f3b2ba23"
      },
      "execution_count": null,
      "outputs": [
        {
          "output_type": "stream",
          "name": "stdout",
          "text": [
            "2002\n",
            "2006\n",
            "2010\n",
            "2014\n",
            "2018\n",
            "2022\n",
            "2026\n",
            "2030\n",
            "2034\n",
            "2038\n",
            "2042\n",
            "2046\n",
            "2050\n",
            "[2002, 2006, 2010, 2014, 2018, 2022, 2026, 2030, 2034, 2038, 2042, 2046, 2050]\n"
          ]
        }
      ]
    },
    {
      "cell_type": "markdown",
      "source": [
        "33\n",
        "\n",
        "1부터 30까지의 숫자 중 3의 배수를 출력하라.\n",
        "\n",
        "```\n",
        "3 \n",
        "6 \n",
        "9 \n",
        "12 \n",
        "15 \n",
        "18 \n",
        "21 \n",
        "24 \n",
        "27 \n",
        "30\n",
        "```"
      ],
      "metadata": {
        "id": "cd3f89TZK65s"
      }
    },
    {
      "cell_type": "code",
      "source": [
        "for i in range(1,31) : \n",
        "   if i % 3 == 0 :\n",
        "    print(i)"
      ],
      "metadata": {
        "id": "6e8A_2p-K-n6",
        "colab": {
          "base_uri": "https://localhost:8080/"
        },
        "outputId": "905f8767-4bee-4558-a245-682f205b0b65"
      },
      "execution_count": null,
      "outputs": [
        {
          "output_type": "stream",
          "name": "stdout",
          "text": [
            "3\n",
            "6\n",
            "9\n",
            "12\n",
            "15\n",
            "18\n",
            "21\n",
            "24\n",
            "27\n",
            "30\n"
          ]
        }
      ]
    },
    {
      "cell_type": "markdown",
      "source": [
        "34\n",
        "\n",
        "99부터 0까지 1씩 감소하는 숫자들을, 한 라인에 하나씩 출력하라."
      ],
      "metadata": {
        "id": "Nc5S2O9CLAGv"
      }
    },
    {
      "cell_type": "code",
      "source": [
        "for i in range(99,-1,-1) :\n",
        "  print(i)\n"
      ],
      "metadata": {
        "id": "pZNdmathLBNy",
        "colab": {
          "base_uri": "https://localhost:8080/"
        },
        "outputId": "e4078c6f-cd22-40a9-9887-4c550e03288d"
      },
      "execution_count": null,
      "outputs": [
        {
          "output_type": "stream",
          "name": "stdout",
          "text": [
            "99\n",
            "98\n",
            "97\n",
            "96\n",
            "95\n",
            "94\n",
            "93\n",
            "92\n",
            "91\n",
            "90\n",
            "89\n",
            "88\n",
            "87\n",
            "86\n",
            "85\n",
            "84\n",
            "83\n",
            "82\n",
            "81\n",
            "80\n",
            "79\n",
            "78\n",
            "77\n",
            "76\n",
            "75\n",
            "74\n",
            "73\n",
            "72\n",
            "71\n",
            "70\n",
            "69\n",
            "68\n",
            "67\n",
            "66\n",
            "65\n",
            "64\n",
            "63\n",
            "62\n",
            "61\n",
            "60\n",
            "59\n",
            "58\n",
            "57\n",
            "56\n",
            "55\n",
            "54\n",
            "53\n",
            "52\n",
            "51\n",
            "50\n",
            "49\n",
            "48\n",
            "47\n",
            "46\n",
            "45\n",
            "44\n",
            "43\n",
            "42\n",
            "41\n",
            "40\n",
            "39\n",
            "38\n",
            "37\n",
            "36\n",
            "35\n",
            "34\n",
            "33\n",
            "32\n",
            "31\n",
            "30\n",
            "29\n",
            "28\n",
            "27\n",
            "26\n",
            "25\n",
            "24\n",
            "23\n",
            "22\n",
            "21\n",
            "20\n",
            "19\n",
            "18\n",
            "17\n",
            "16\n",
            "15\n",
            "14\n",
            "13\n",
            "12\n",
            "11\n",
            "10\n",
            "9\n",
            "8\n",
            "7\n",
            "6\n",
            "5\n",
            "4\n",
            "3\n",
            "2\n",
            "1\n",
            "0\n"
          ]
        }
      ]
    },
    {
      "cell_type": "markdown",
      "source": [
        "35\n",
        "\n",
        "for문을 사용해서 아래와 같이 출력하라.\n",
        "\n",
        "```\n",
        "0.0\n",
        "0.1\n",
        "0.2\n",
        "0.3\n",
        "0.4\n",
        "0.5\n",
        "...\n",
        "0.9\n",
        "```"
      ],
      "metadata": {
        "id": "JgddzXfPLBk1"
      }
    },
    {
      "cell_type": "code",
      "source": [
        "for i in range(0, 10, 1) :\n",
        "  print(i/10)"
      ],
      "metadata": {
        "id": "i23O197gLHgS",
        "colab": {
          "base_uri": "https://localhost:8080/"
        },
        "outputId": "93ee66c2-d38f-4e27-c133-686181ba1ca2"
      },
      "execution_count": null,
      "outputs": [
        {
          "output_type": "stream",
          "name": "stdout",
          "text": [
            "0.0\n",
            "0.1\n",
            "0.2\n",
            "0.3\n",
            "0.4\n",
            "0.5\n",
            "0.6\n",
            "0.7\n",
            "0.8\n",
            "0.9\n"
          ]
        }
      ]
    },
    {
      "cell_type": "markdown",
      "source": [
        "36\n",
        "\n",
        "구구단 3단을 출력하라.\n",
        "```\n",
        "3x1 = 3\n",
        "3x2 = 6\n",
        "3x3 = 9\n",
        "3x4 = 12\n",
        "3x5 = 15\n",
        "3x6 = 18\n",
        "3x7 = 21\n",
        "3x8 = 24\n",
        "3x9 = 27\n",
        "```"
      ],
      "metadata": {
        "id": "_06sP3QELH7V"
      }
    },
    {
      "cell_type": "code",
      "source": [
        "for i in range(1,30) :\n",
        "  if i % 3 == 0 :\n",
        "    print(\"3x\",int(i/3),\"=\",i)"
      ],
      "metadata": {
        "id": "mXlW43ScLLaa",
        "colab": {
          "base_uri": "https://localhost:8080/"
        },
        "outputId": "2c6907b3-1a0e-4a74-9cd9-28cb96f65da4"
      },
      "execution_count": null,
      "outputs": [
        {
          "output_type": "stream",
          "name": "stdout",
          "text": [
            "3x 1 = 3\n",
            "3x 2 = 6\n",
            "3x 3 = 9\n",
            "3x 4 = 12\n",
            "3x 5 = 15\n",
            "3x 6 = 18\n",
            "3x 7 = 21\n",
            "3x 8 = 24\n",
            "3x 9 = 27\n"
          ]
        }
      ]
    },
    {
      "cell_type": "markdown",
      "source": [
        "37\n",
        "\n",
        "구구단 3단을 출력하라. 단 홀수 번째만 출력한다.\n",
        "\n",
        "```\n",
        "3x1 = 3\n",
        "3x3 = 9\n",
        "3x5 = 15\n",
        "3x7 = 21\n",
        "3x9 = 27\n",
        "```"
      ],
      "metadata": {
        "id": "7pjK7TYCLMYs"
      }
    },
    {
      "cell_type": "code",
      "source": [
        "a = 3\n",
        "for i in range(1, 10, 2) :\n",
        "    print (a, \"x\", i, \" = \", a * i)"
      ],
      "metadata": {
        "id": "G4R92NLJLOUh",
        "colab": {
          "base_uri": "https://localhost:8080/"
        },
        "outputId": "f4e5f971-031c-4997-af1d-7a7ba2a0014d"
      },
      "execution_count": null,
      "outputs": [
        {
          "output_type": "stream",
          "name": "stdout",
          "text": [
            "3 x 1  =  3\n",
            "3 x 3  =  9\n",
            "3 x 5  =  15\n",
            "3 x 7  =  21\n",
            "3 x 9  =  27\n"
          ]
        }
      ]
    },
    {
      "cell_type": "markdown",
      "source": [
        "38\n",
        "\n",
        "1~10까지의 숫자에 대해 모두 더한 값을 출력하는 프로그램을 for 문을 사용하여 작성하라.\n",
        "\n",
        "```\n",
        "합 : 55\n",
        "```"
      ],
      "metadata": {
        "id": "psl-ozEHLPgf"
      }
    },
    {
      "cell_type": "code",
      "source": [
        "a = 0 \n",
        "for i in range(11) :\n",
        "  a += i\n",
        "print(a)\n",
        "  "
      ],
      "metadata": {
        "id": "7aH2pY9uLSFR",
        "colab": {
          "base_uri": "https://localhost:8080/"
        },
        "outputId": "bb07192a-00ae-4814-ff87-4e7e26248d39"
      },
      "execution_count": null,
      "outputs": [
        {
          "output_type": "stream",
          "name": "stdout",
          "text": [
            "55\n"
          ]
        }
      ]
    },
    {
      "cell_type": "markdown",
      "source": [
        "39\n",
        "\n",
        "1~10까지의 숫자 중 모든 홀수의 합을 출력하는 프로그램을 for 문을 사용하여 작성하라.\n",
        "\n",
        "```\n",
        "합: 25\n",
        "```"
      ],
      "metadata": {
        "id": "JTW1VG-PLSij"
      }
    },
    {
      "cell_type": "code",
      "source": [
        "a = 0 \n",
        "for i in range(1,10) :\n",
        "  if i % 2 == 1 :\n",
        "    a += i\n",
        "print(a)"
      ],
      "metadata": {
        "id": "RG66BTsiLVfh",
        "colab": {
          "base_uri": "https://localhost:8080/"
        },
        "outputId": "a22db80a-6084-48a0-9b75-8abeb3df7de9"
      },
      "execution_count": null,
      "outputs": [
        {
          "output_type": "stream",
          "name": "stdout",
          "text": [
            "25\n"
          ]
        }
      ]
    },
    {
      "cell_type": "markdown",
      "source": [
        "40\n",
        "\n",
        "1~10까지의 숫자를 모두 곱한 값을 출력하는 프로그램을 for 문을 사용하여 작성하라."
      ],
      "metadata": {
        "id": "rU0Uwl-xLYFJ"
      }
    },
    {
      "cell_type": "code",
      "source": [
        "a = 1 \n",
        "for i in range(1,11) :\n",
        "  a *= i\n",
        "print(a)"
      ],
      "metadata": {
        "id": "r5PwKZ_lLY8x",
        "colab": {
          "base_uri": "https://localhost:8080/"
        },
        "outputId": "8bf7fa25-86a4-4553-f01f-b38216701daf"
      },
      "execution_count": null,
      "outputs": [
        {
          "output_type": "stream",
          "name": "stdout",
          "text": [
            "3628800\n"
          ]
        }
      ]
    },
    {
      "cell_type": "markdown",
      "source": [
        "41\n",
        "\n",
        "아래와 같이 리스트의 데이터를 출력하라. 단, for문과 range문을 사용하라.\n",
        "```\n",
        "price_list = [32100, 32150, 32000, 32500]\n",
        "32100\n",
        "32150\n",
        "32000\n",
        "32500\n",
        "```"
      ],
      "metadata": {
        "id": "zIpAlzdoLbTY"
      }
    },
    {
      "cell_type": "code",
      "source": [
        "price_list = [32100, 32150, 32000, 32500]\n",
        "for i in range(len(price_list)) :\n",
        "  print(price_list[i])"
      ],
      "metadata": {
        "id": "w6QfFpJXLhct",
        "colab": {
          "base_uri": "https://localhost:8080/"
        },
        "outputId": "e50f0228-110d-46af-94bd-46fdcf7fcab3"
      },
      "execution_count": null,
      "outputs": [
        {
          "output_type": "stream",
          "name": "stdout",
          "text": [
            "32100\n",
            "32150\n",
            "32000\n",
            "32500\n"
          ]
        }
      ]
    },
    {
      "cell_type": "markdown",
      "source": [
        "42\n",
        "\n",
        "아래와 같이 리스트의 데이터를 출력하라. 단, for문과 range문을 사용하라.\n",
        "\n",
        "```\n",
        "price_list = [32100, 32150, 32000, 32500]\n",
        "0 32100\n",
        "1 32150\n",
        "2 32000\n",
        "3 32500\n",
        "```"
      ],
      "metadata": {
        "id": "bsViAc6pLi2M"
      }
    },
    {
      "cell_type": "code",
      "source": [
        "price_list = [32100, 32150, 32000, 32500]\n",
        "\n",
        "for j in enumerate(price_list) :\n",
        "  print(j)\n",
        "\n",
        "\n",
        "for k, value in enumerate(price_list) :\n",
        "  print(k, value)"
      ],
      "metadata": {
        "id": "Eo19w7kzLjTY",
        "colab": {
          "base_uri": "https://localhost:8080/"
        },
        "outputId": "1f5b4ca1-cc9a-4e91-a6a0-a3d1d3efb4b8"
      },
      "execution_count": null,
      "outputs": [
        {
          "output_type": "stream",
          "name": "stdout",
          "text": [
            "(0, 32100)\n",
            "(1, 32150)\n",
            "(2, 32000)\n",
            "(3, 32500)\n",
            "0 32100\n",
            "1 32150\n",
            "2 32000\n",
            "3 32500\n"
          ]
        }
      ]
    },
    {
      "cell_type": "markdown",
      "source": [
        "43\n",
        "\n",
        "아래와 같이 리스트의 데이터를 출력하라. 단, for문과 range문을 사용하라.\n",
        "\n",
        "```\n",
        "price_list = [32100, 32150, 32000, 32500]\n",
        "3 32100\n",
        "2 32150\n",
        "1 32000\n",
        "0 32500\n",
        "```"
      ],
      "metadata": {
        "id": "PF7H_7H_LkOU"
      }
    },
    {
      "cell_type": "code",
      "source": [
        "for i in range(len(price_list)) :\n",
        "  print((len(price_list) - 1) - i,price_list[i])\n",
        "\n"
      ],
      "metadata": {
        "id": "ZA1kpp1nLnPB",
        "colab": {
          "base_uri": "https://localhost:8080/"
        },
        "outputId": "b82862da-296c-423e-c434-80fdba9a35f3"
      },
      "execution_count": null,
      "outputs": [
        {
          "output_type": "stream",
          "name": "stdout",
          "text": [
            "3 32100\n",
            "2 32150\n",
            "1 32000\n",
            "0 32500\n"
          ]
        }
      ]
    },
    {
      "cell_type": "markdown",
      "source": [
        "44\n",
        "\n",
        "아래와 같이 리스트의 데이터를 출력하라. 단, for문과 range문을 사용하라.\n",
        "\n",
        "```\n",
        "price_list = [32100, 32150, 32000, 32500]\n",
        "100 32150\n",
        "110 32000\n",
        "120 32500\n",
        "```"
      ],
      "metadata": {
        "id": "_L9G3mUkLpyx"
      }
    },
    {
      "cell_type": "code",
      "source": [
        "for i in range (1, len(price_list) ) :\n",
        "    print(100 + (i - 1) * 10, price_list[i])"
      ],
      "metadata": {
        "id": "Gbci3jZRLsNw",
        "colab": {
          "base_uri": "https://localhost:8080/"
        },
        "outputId": "21c28194-b857-474b-a653-784562754957"
      },
      "execution_count": null,
      "outputs": [
        {
          "output_type": "stream",
          "name": "stdout",
          "text": [
            "100 32150\n",
            "110 32000\n",
            "120 32500\n"
          ]
        }
      ]
    },
    {
      "cell_type": "markdown",
      "source": [
        "45\n",
        "\n",
        "my_list를 아래와 같이 출력하라.\n",
        "\n",
        "```\n",
        "my_list = [\"가\", \"나\", \"다\", \"라\"]\n",
        "가 나\n",
        "나 다\n",
        "다 라\n",
        "```"
      ],
      "metadata": {
        "id": "8n3XqlXsLtUT"
      }
    },
    {
      "cell_type": "code",
      "source": [
        "my_list = [\"가\", \"나\", \"다\", \"라\"]\n",
        "print(my_list[0], my_list[1])\n",
        "print(my_list[1], my_list[2])\n",
        "print(my_list[2], my_list[3])\n",
        "\n",
        "for i in range(len(my_list)-1):\n",
        "  print(my_list[i],my_list[i+1])"
      ],
      "metadata": {
        "id": "ev2lLcsrLvQx",
        "colab": {
          "base_uri": "https://localhost:8080/"
        },
        "outputId": "325e3a3a-4569-417e-af94-40355cf0f62e"
      },
      "execution_count": null,
      "outputs": [
        {
          "output_type": "stream",
          "name": "stdout",
          "text": [
            "가 나\n",
            "나 다\n",
            "다 라\n",
            "가 나\n",
            "나 다\n",
            "다 라\n"
          ]
        }
      ]
    },
    {
      "cell_type": "markdown",
      "source": [
        "46\n",
        "\n",
        "리스트를 아래와 같이 출력하라.\n",
        "\n",
        "```\n",
        "my_list = [\"가\", \"나\", \"다\", \"라\", \"마\"]\n",
        "가 나 다\n",
        "나 다 라\n",
        "다 라 마\n",
        "```"
      ],
      "metadata": {
        "id": "y3_FEeI1Lzba"
      }
    },
    {
      "cell_type": "code",
      "source": [
        "my_list = [\"가\", \"나\", \"다\", \"라\", \"마\"]\n",
        "print(my_list[0], my_list[1], my_list[2])\n",
        "print(my_list[1], my_list[2], my_list[3])\n",
        "print(my_list[2], my_list[3], my_list[4])"
      ],
      "metadata": {
        "id": "QHwzTwexL1fY",
        "colab": {
          "base_uri": "https://localhost:8080/"
        },
        "outputId": "e70925a3-6206-41e7-c590-bde60363ae29"
      },
      "execution_count": null,
      "outputs": [
        {
          "output_type": "stream",
          "name": "stdout",
          "text": [
            "가 나 다\n",
            "나 다 라\n",
            "다 라 마\n"
          ]
        }
      ]
    },
    {
      "cell_type": "code",
      "source": [],
      "metadata": {
        "id": "3EBbcC9MmR_5"
      },
      "execution_count": null,
      "outputs": []
    },
    {
      "cell_type": "markdown",
      "source": [
        "47\n",
        "\n",
        "반복문과 range 함수를 사용해서 my_list를 아래와 같이 출력하라.\n",
        "\n",
        "```\n",
        "my_list = [\"가\", \"나\", \"다\", \"라\"]\n",
        "라 다\n",
        "다 나\n",
        "나 가\n",
        "```"
      ],
      "metadata": {
        "id": "VLKZFDnKMBUL"
      }
    },
    {
      "cell_type": "code",
      "source": [
        "# my_list = [\"가\", \"나\", \"다\", \"라\"]\n",
        "# print(my_list[3], my_list[2])\n",
        "# print(my_list[2], my_list[1])\n",
        "# print(my_list[1], my_list[0])\n",
        "my_list = [\"가\", \"나\", \"다\", \"라\"]\n",
        "for i in range(len(my_list)-1,0,-1) :\n",
        "  print(my_list[i], my_list[i-1])\n"
      ],
      "metadata": {
        "id": "TUfd2eVoMDSY",
        "colab": {
          "base_uri": "https://localhost:8080/"
        },
        "outputId": "6b0b45f1-b55f-48bf-a9a0-ef48946aed98"
      },
      "execution_count": null,
      "outputs": [
        {
          "output_type": "stream",
          "name": "stdout",
          "text": [
            "라 다\n",
            "다 나\n",
            "나 가\n"
          ]
        }
      ]
    },
    {
      "cell_type": "markdown",
      "source": [
        "48\n",
        "\n",
        "리스트에는 네 개의 정수가 저장되어 있다. 각각의 데이터에 대해서 자신과 우측값과의 차분값을 화면에 출력하라.\n",
        "\n",
        "```\n",
        "my_list = [100, 200, 400, 800]\n",
        "```\n",
        "예를들어 100을 기준으로 우측에 위치한 200과의 차분 값를 화면에 출력하고, 200을 기준으로 우측에 위치한 400과의 차분값을 화면에 출력한다. 이어서 400을 기준으로 우측에 위치한 800과의 차분값을 화면에 출력한다.\n",
        "```\n",
        "100\n",
        "200\n",
        "400\n",
        "```"
      ],
      "metadata": {
        "id": "tIBwv82dMLMP"
      }
    },
    {
      "cell_type": "code",
      "source": [
        "my_list = [100, 200, 400, 800]\n",
        "for i in range(len(my_list) - 1):\n",
        "    print(abs(my_list[i+1] - my_list[i]))\n",
        "\n",
        "    #abs 절대값"
      ],
      "metadata": {
        "id": "qON0RdjOMPDX",
        "colab": {
          "base_uri": "https://localhost:8080/"
        },
        "outputId": "f9ce20e3-6488-4d4a-a897-a14a8643d74d"
      },
      "execution_count": null,
      "outputs": [
        {
          "output_type": "stream",
          "name": "stdout",
          "text": [
            "100\n",
            "200\n",
            "400\n"
          ]
        }
      ]
    },
    {
      "cell_type": "markdown",
      "source": [
        "49\n",
        "\n",
        "리스트에는 6일 간의 종가 데이터가 저장되어 있다. 종가 데이터의 3일 이동 평균을 계산하고 이를 화면에 출력하라.\n",
        "\n",
        "```\n",
        "my_list = [100, 200, 400, 800, 1000, 1300]\n",
        "```\n",
        "첫 번째 줄에는 100, 200, 400의 평균값이 출력된다. 두 번째 줄에는 200, 400, 800의 평균값이 출력된다. 같은 방식으로 나머지 데이터의 평균을 출력한다.\n",
        "```\n",
        "233.33333333333334\n",
        "466.6666666666667\n",
        "733.3333333333334\n",
        "1033.3333333333333\n",
        "```"
      ],
      "metadata": {
        "id": "CMVVe4tBMQ3D"
      }
    },
    {
      "cell_type": "code",
      "source": [
        "my_list = [100, 200, 400, 800, 1000, 1300]\n",
        "for i in range(1, len(my_list) - 1):\n",
        "    print(abs(my_list[i-1] + my_list[i] + my_list[i+1]) / 3)"
      ],
      "metadata": {
        "id": "a1E-LSETMTxf",
        "colab": {
          "base_uri": "https://localhost:8080/"
        },
        "outputId": "15b0ed0a-94bd-4c8e-9b61-1ed8b1f1407f"
      },
      "execution_count": null,
      "outputs": [
        {
          "output_type": "stream",
          "name": "stdout",
          "text": [
            "233.33333333333334\n",
            "466.6666666666667\n",
            "733.3333333333334\n",
            "1033.3333333333333\n"
          ]
        }
      ]
    },
    {
      "cell_type": "markdown",
      "source": [
        "50\n",
        "\n",
        "리스트에 5일간의 저가, 고가 정보가 저장돼 있다. 고가와 저가의 차를 변동폭이라고 정의할 때, low, high 두 개의 리스트를 사용해서 5일간의 변동폭을 volatility 리스트에 저장하라.\n",
        "\n",
        "```\n",
        "low_prices  = [100, 200, 400, 800, 1000]\n",
        "high_prices = [150, 300, 430, 880, 1000]\n",
        "```"
      ],
      "metadata": {
        "id": "XKsgaHAzMWGi"
      }
    },
    {
      "cell_type": "code",
      "source": [
        "low_prices  = [100, 200, 400, 800, 1000]\n",
        "high_prices = [150, 300, 430, 880, 1000]\n",
        "volatility = []\n",
        "for i in range(len(low_prices)) :\n",
        "    volatility.append(high_prices[i] - low_prices[i])\n",
        "\n",
        "print(volatility)"
      ],
      "metadata": {
        "id": "uDZ1Ixv_vIAk",
        "colab": {
          "base_uri": "https://localhost:8080/"
        },
        "outputId": "96ecb389-3af9-4ad2-eacc-89213056e464"
      },
      "execution_count": null,
      "outputs": [
        {
          "output_type": "stream",
          "name": "stdout",
          "text": [
            "[50, 100, 30, 80, 0]\n"
          ]
        }
      ]
    }
  ]
}