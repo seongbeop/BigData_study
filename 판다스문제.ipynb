{
  "nbformat": 4,
  "nbformat_minor": 0,
  "metadata": {
    "colab": {
      "private_outputs": true,
      "provenance": [],
      "include_colab_link": true
    },
    "kernelspec": {
      "name": "python3",
      "display_name": "Python 3"
    },
    "language_info": {
      "name": "python"
    }
  },
  "cells": [
    {
      "cell_type": "markdown",
      "metadata": {
        "id": "view-in-github",
        "colab_type": "text"
      },
      "source": [
        "<a href=\"https://colab.research.google.com/github/seongbeop/python_study/blob/main/%ED%8C%90%EB%8B%A4%EC%8A%A4%EB%AC%B8%EC%A0%9C.ipynb\" target=\"_parent\"><img src=\"https://colab.research.google.com/assets/colab-badge.svg\" alt=\"Open In Colab\"/></a>"
      ]
    },
    {
      "cell_type": "markdown",
      "source": [
        "1. 타이타닉 데이터를 로드하라"
      ],
      "metadata": {
        "id": "NExwP-cSysNq"
      }
    },
    {
      "cell_type": "code",
      "source": [
        "import pandas as pd\n",
        "\n",
        "f = pd.read_csv(\"/content/titanic.csv\")\n",
        "# print(f)"
      ],
      "metadata": {
        "id": "nJ3RQhxGyd7-"
      },
      "execution_count": null,
      "outputs": []
    },
    {
      "cell_type": "markdown",
      "source": [
        "2. 데이터의 상위 5개 행을 출력하라"
      ],
      "metadata": {
        "id": "nfTIhRyWyuh5"
      }
    },
    {
      "cell_type": "code",
      "source": [
        "f.head(5)"
      ],
      "metadata": {
        "id": "Deih3-JByvz0"
      },
      "execution_count": null,
      "outputs": []
    },
    {
      "cell_type": "markdown",
      "source": [
        "3. 데이터의 행과 열의 갯수를 파악하라"
      ],
      "metadata": {
        "id": "-aUSVCbmy1L3"
      }
    },
    {
      "cell_type": "code",
      "source": [
        "# print(f.shape[1])"
      ],
      "metadata": {
        "id": "77gJ6AVwy17S"
      },
      "execution_count": null,
      "outputs": []
    },
    {
      "cell_type": "markdown",
      "source": [
        "4. 전체 컬럼을 출력하라"
      ],
      "metadata": {
        "id": "975CvOvVy6xK"
      }
    },
    {
      "cell_type": "code",
      "source": [
        "f.columns"
      ],
      "metadata": {
        "id": "D5a00Adoy4-y"
      },
      "execution_count": null,
      "outputs": []
    },
    {
      "cell_type": "markdown",
      "source": [
        "5. 6번째 컬럼명을 출력하라"
      ],
      "metadata": {
        "id": "6E32cTM3y9cY"
      }
    },
    {
      "cell_type": "code",
      "source": [
        "f.columns[5]"
      ],
      "metadata": {
        "id": "TszM6ptQy_gZ"
      },
      "execution_count": null,
      "outputs": []
    },
    {
      "cell_type": "markdown",
      "source": [
        "6. 6번째 컬럼의 데이터 타입을 확인하라"
      ],
      "metadata": {
        "id": "_cpK2_kbzHCq"
      }
    },
    {
      "cell_type": "code",
      "source": [
        "# f.iloc[:5]"
      ],
      "metadata": {
        "id": "TTJYohTWzGlo"
      },
      "execution_count": null,
      "outputs": []
    },
    {
      "cell_type": "markdown",
      "source": [
        "7. 데이터셋의 인덱스 구성은 어떤가"
      ],
      "metadata": {
        "id": "veFFtyTGzL5r"
      }
    },
    {
      "cell_type": "code",
      "source": [
        "f.index"
      ],
      "metadata": {
        "id": "6L5faPMWzM5A"
      },
      "execution_count": null,
      "outputs": []
    },
    {
      "cell_type": "markdown",
      "source": [
        "8. 6번째 컬럼의 3번째 값은 무엇인가?"
      ],
      "metadata": {
        "id": "rQRnMdX9zPt4"
      }
    },
    {
      "cell_type": "code",
      "source": [
        "f.iloc[2,5]"
      ],
      "metadata": {
        "id": "i9ayNAelzQgJ"
      },
      "execution_count": null,
      "outputs": []
    },
    {
      "cell_type": "markdown",
      "source": [
        "9. 데이터를 로드하라. 컬럼이 한글이기에 적절한 처리해줘야함"
      ],
      "metadata": {
        "id": "xkp07BVGzTTr"
      }
    },
    {
      "cell_type": "code",
      "source": [
        "\n",
        "df = pd.read_csv(\"/content/Jeju.csv\" , encoding= \"UTF-8\")\n"
      ],
      "metadata": {
        "id": "NHQUbNg3zRth"
      },
      "execution_count": null,
      "outputs": []
    },
    {
      "cell_type": "markdown",
      "source": [
        "10. 데이터 마지막 3개 행을 출력하라"
      ],
      "metadata": {
        "id": "e-onw8CHz8M1"
      }
    },
    {
      "cell_type": "code",
      "source": [
        "df.tail(3)"
      ],
      "metadata": {
        "id": "tBGkfm9RzXq5"
      },
      "execution_count": null,
      "outputs": []
    },
    {
      "cell_type": "markdown",
      "source": [
        "11. 수치형 변수를 가진 컬럼을 출력하라"
      ],
      "metadata": {
        "id": "6bOlO8Hq0Bl6"
      }
    },
    {
      "cell_type": "code",
      "source": [
        "df.select_dtypes(exclude=object)"
      ],
      "metadata": {
        "id": "MWd9b0Jv0ExW"
      },
      "execution_count": null,
      "outputs": []
    },
    {
      "cell_type": "markdown",
      "source": [
        "12. 범주형 변수를 가진 컬럼을 출력하라"
      ],
      "metadata": {
        "id": "V3i_8Qup0M8l"
      }
    },
    {
      "cell_type": "code",
      "source": [
        "df.select_dtypes(include=object).columns"
      ],
      "metadata": {
        "id": "EEY3_6C80Rw2"
      },
      "execution_count": null,
      "outputs": []
    },
    {
      "cell_type": "markdown",
      "source": [
        "13. 각 컬럼의 결측치 숫자를 파악하라"
      ],
      "metadata": {
        "id": "VfMSTLxm0bB8"
      }
    },
    {
      "cell_type": "code",
      "source": [
        "df.isnull().sum()\n",
        "\n",
        "#T F. "
      ],
      "metadata": {
        "id": "MYdBf3Mt0UMV"
      },
      "execution_count": null,
      "outputs": []
    },
    {
      "cell_type": "markdown",
      "source": [
        "14. 각 컬럼의 데이터수, 데이터타입을 한번에 확인하라"
      ],
      "metadata": {
        "id": "zkuRaITW0fAO"
      }
    },
    {
      "cell_type": "code",
      "source": [
        "df.info()"
      ],
      "metadata": {
        "id": "586Cv6jt0czW"
      },
      "execution_count": null,
      "outputs": []
    },
    {
      "cell_type": "markdown",
      "source": [
        "15. 각 수치형 변수의 분포(사분위, 평균, 표준편차, 최대 , 최소)를 확인하라"
      ],
      "metadata": {
        "id": "HMwa5mpg0jdO"
      }
    },
    {
      "cell_type": "code",
      "source": [
        "df.describe"
      ],
      "metadata": {
        "id": "-56RoOmt0hAt"
      },
      "execution_count": null,
      "outputs": []
    },
    {
      "cell_type": "markdown",
      "source": [
        "16. 거주인구 컬럼의 값들을 출력하라"
      ],
      "metadata": {
        "id": "P5K-KUvv0nu4"
      }
    },
    {
      "cell_type": "code",
      "source": [
        "df[\"거주인구\"]\n",
        "\n",
        "df[[\"거주인구\"]]  ## 이중괄호 데이터프레임형태"
      ],
      "metadata": {
        "id": "aKLJ7JC00l2V"
      },
      "execution_count": null,
      "outputs": []
    },
    {
      "cell_type": "markdown",
      "source": [
        "17. 평균 속도 컬럼의 4분위 범위(IQR) 값을 구하여라"
      ],
      "metadata": {
        "id": "G_y17fG10sUN"
      }
    },
    {
      "cell_type": "code",
      "source": [
        "df['평균 속도'].quantile(0.75) - df['평균 속도'].quantile(0.25)"
      ],
      "metadata": {
        "id": "4b3ga4Au0qL0"
      },
      "execution_count": null,
      "outputs": []
    },
    {
      "cell_type": "markdown",
      "source": [
        "18. 읍면동명 컬럼의 유일값 갯수를 출력하라"
      ],
      "metadata": {
        "id": "rz6WK_Bl02DR"
      }
    },
    {
      "cell_type": "code",
      "source": [
        "df['읍면동명'].nunique()"
      ],
      "metadata": {
        "id": "9TSZoJSo0vE1"
      },
      "execution_count": null,
      "outputs": []
    },
    {
      "cell_type": "markdown",
      "source": [
        "19. 읍면동명 컬럼의 유일값을 모두 출력하라"
      ],
      "metadata": {
        "id": "qRbaXfCY06PS"
      }
    },
    {
      "cell_type": "code",
      "source": [
        "df.읍면동명.unique()"
      ],
      "metadata": {
        "id": "gCkDoJXz04T0"
      },
      "execution_count": null,
      "outputs": []
    },
    {
      "cell_type": "markdown",
      "source": [
        "20. 식당 데이터를 로드하라."
      ],
      "metadata": {
        "id": "TXE0TJjx1Cqc"
      }
    },
    {
      "cell_type": "code",
      "source": [
        "df = pd.read_csv(\"/content/chipo.csv\")\n",
        "# print(df)"
      ],
      "metadata": {
        "id": "gMU8ljOf0-Z7"
      },
      "execution_count": null,
      "outputs": []
    },
    {
      "cell_type": "markdown",
      "source": [
        "21. quantity컬럼 값이 3인 데이터를 추출하여 첫 5행을 출력하라"
      ],
      "metadata": {
        "id": "Oa7w5h8E1b4a"
      }
    },
    {
      "cell_type": "code",
      "source": [
        "df.loc[df['quantity']==3].head(5)"
      ],
      "metadata": {
        "id": "XiDW94l31fcL"
      },
      "execution_count": null,
      "outputs": []
    },
    {
      "cell_type": "markdown",
      "source": [
        "22. quantity컬럼 값이 3인 데이터를 추출하여 index를 0부터 정렬하고 첫 5행을 출력하라"
      ],
      "metadata": {
        "id": "YereD3kB1h7D"
      }
    },
    {
      "cell_type": "code",
      "source": [
        "df.loc[df['quantity']==3].head().reset_index(drop=False)\n",
        "\n",
        "#drop은 이전의 인덱스를 날리냐 마냐"
      ],
      "metadata": {
        "id": "MzQyhZHc1gw5"
      },
      "execution_count": null,
      "outputs": []
    },
    {
      "cell_type": "markdown",
      "source": [
        "23. quantity , item_price 두개의 컬럼으로 구성된 새로운 데이터 프레임을 정의하라"
      ],
      "metadata": {
        "id": "yrOCB2-D2ir5"
      }
    },
    {
      "cell_type": "code",
      "source": [
        "re_df = df[['quantity' , 'item_price']]"
      ],
      "metadata": {
        "id": "yJPx0ZVR2lUp"
      },
      "execution_count": null,
      "outputs": []
    },
    {
      "cell_type": "markdown",
      "source": [
        "24. item_price 컬럼의 달러표시 문자를 제거하고 float 타입으로 저장하여 new_price 컬럼에 저장하라"
      ],
      "metadata": {
        "id": "N2PN489w2q8g"
      }
    },
    {
      "cell_type": "code",
      "source": [
        "# df['new_price'] =\n",
        "\n",
        "df['new_price'] = df['item_price'].str[1:].astype(\"float\")"
      ],
      "metadata": {
        "id": "wTxFfYBa2s-a"
      },
      "execution_count": null,
      "outputs": []
    },
    {
      "cell_type": "markdown",
      "source": [
        "25. new_price 컬럼이 5이하의 값을 가지는 데이터프레임을 추출하고, 전체 갯수를 구하여라"
      ],
      "metadata": {
        "id": "yQt81QAQ29db"
      }
    },
    {
      "cell_type": "code",
      "source": [
        "df['new_price']\n",
        "\n",
        "len(df.loc[df['new_price'] <= 5] )"
      ],
      "metadata": {
        "id": "shhcEWiq2-Je"
      },
      "execution_count": null,
      "outputs": []
    },
    {
      "cell_type": "markdown",
      "source": [
        "26. item_name명이 Chicken Salad Bowl 인 데이터 프레임을 추출하라고 index 값을 초기화 하여라"
      ],
      "metadata": {
        "id": "m82LM3mE3DCz"
      }
    },
    {
      "cell_type": "code",
      "source": [
        "df.loc[df['item_name'] == 'Chicken Salad Bowl'].reset_index(drop=True)"
      ],
      "metadata": {
        "id": "esvD886B3AKu"
      },
      "execution_count": null,
      "outputs": []
    },
    {
      "cell_type": "markdown",
      "source": [
        "27. new_price값이 9 이하이고 item_name 값이 Chicken Salad Bowl 인 데이터 프레임을 추출하라"
      ],
      "metadata": {
        "id": "fVTEtDtd3I18"
      }
    },
    {
      "cell_type": "code",
      "source": [
        "df[ (df['new_price'] <= 9 ) & (df.item_name == \"Chicken Salad Bowl\") ] "
      ],
      "metadata": {
        "id": "93PkL9KP3GVd"
      },
      "execution_count": null,
      "outputs": []
    },
    {
      "cell_type": "markdown",
      "source": [
        "28. df의 new_price 컬럼 값에 따라 오름차순으로 정리하고 index를 초기화 하여라"
      ],
      "metadata": {
        "id": "E-N1jGaE3QgX"
      }
    },
    {
      "cell_type": "code",
      "source": [
        "df.sort_values('new_price').reset_index(drop=True)"
      ],
      "metadata": {
        "id": "cDLM8CQh3Ln1"
      },
      "execution_count": null,
      "outputs": []
    },
    {
      "cell_type": "markdown",
      "source": [
        "29. df의 item_name 컬럼 값중 Chips 포함하는 경우의 데이터를 출력하라"
      ],
      "metadata": {
        "id": "bfGsSa333U90"
      }
    },
    {
      "cell_type": "code",
      "source": [
        "df.loc[df['item_name'].str.contains('Chips')]"
      ],
      "metadata": {
        "id": "_2_BWWTv3SjV"
      },
      "execution_count": null,
      "outputs": []
    },
    {
      "cell_type": "markdown",
      "source": [
        "30. df의 짝수번째 컬럼만을 포함하는 데이터프레임을 출력하라"
      ],
      "metadata": {
        "id": "c1P-YDH-3Zu_"
      }
    },
    {
      "cell_type": "code",
      "source": [
        "df.iloc[:,::2]"
      ],
      "metadata": {
        "id": "l-oljrYi3XoN"
      },
      "execution_count": null,
      "outputs": []
    },
    {
      "cell_type": "markdown",
      "source": [
        "31. df의 new_price 컬럼 값에 따라 내림차순으로 정리하고 index를 초기화 하여라"
      ],
      "metadata": {
        "id": "pqfXDTrC3dbU"
      }
    },
    {
      "cell_type": "code",
      "source": [],
      "metadata": {
        "id": "dppHebC-3d-j"
      },
      "execution_count": null,
      "outputs": []
    },
    {
      "cell_type": "markdown",
      "source": [
        "32. df의 item_name 컬럼 값이 Steak Salad 또는 Bowl 인 데이터를 인덱싱하라"
      ],
      "metadata": {
        "id": "27m_qdTQ3kEW"
      }
    },
    {
      "cell_type": "code",
      "source": [],
      "metadata": {
        "id": "C7VzEQxM3fGj"
      },
      "execution_count": null,
      "outputs": []
    },
    {
      "cell_type": "markdown",
      "source": [
        "33. df의 item_name 컬럼 값이 Steak Salad 또는 Bowl 인 데이터를 데이터 프레임화 한 후, item_name를 기준으로 중복행이 있으면 제거하되 첫번째 케이스만 남겨라"
      ],
      "metadata": {
        "id": "_iGnpF1V3mjK"
      }
    },
    {
      "cell_type": "code",
      "source": [],
      "metadata": {
        "id": "mcFlwj603lCE"
      },
      "execution_count": null,
      "outputs": []
    },
    {
      "cell_type": "markdown",
      "source": [
        "34. df의 item_name 컬럼 값이 Steak Salad 또는 Bowl 인 데이터를 데이터 프레임화 한 후, item_name를 기준으로 중복행이 있으면 제거하되 마지막 케이스만 남겨라"
      ],
      "metadata": {
        "id": "32OeNonA38PH"
      }
    },
    {
      "cell_type": "code",
      "source": [],
      "metadata": {
        "id": "u3iZVPIU3t78"
      },
      "execution_count": null,
      "outputs": []
    },
    {
      "cell_type": "markdown",
      "source": [
        "35. df의 데이터 중 new_price값이 new_price값의 평균값 이상을 가지는 데이터들을 인덱싱하라"
      ],
      "metadata": {
        "id": "v8etC2lo4DEs"
      }
    },
    {
      "cell_type": "code",
      "source": [],
      "metadata": {
        "id": "_oEFi8zq4BHz"
      },
      "execution_count": null,
      "outputs": []
    },
    {
      "cell_type": "markdown",
      "source": [
        "36. df의 데이터 중 item_name의 값이 Izze 데이터를 Fizzy Lizzy로 수정하라"
      ],
      "metadata": {
        "id": "1YMsEt_h4HJX"
      }
    },
    {
      "cell_type": "code",
      "source": [],
      "metadata": {
        "id": "nBICDHg64FFT"
      },
      "execution_count": null,
      "outputs": []
    },
    {
      "cell_type": "markdown",
      "source": [
        "37. df의 데이터 중 choice_description 값이 NaN 인 데이터의 갯수를 구하여라"
      ],
      "metadata": {
        "id": "gMxi17aq4aIB"
      }
    },
    {
      "cell_type": "code",
      "source": [],
      "metadata": {
        "id": "KGRGEGjo4TtB"
      },
      "execution_count": null,
      "outputs": []
    },
    {
      "cell_type": "markdown",
      "source": [
        "38. df의 데이터 중 choice_description 값이 NaN 인 데이터를 NoData 값으로 대체하라(loc 이용)"
      ],
      "metadata": {
        "id": "JZGtYiyy4dvP"
      }
    },
    {
      "cell_type": "code",
      "source": [],
      "metadata": {
        "id": "WEWM0ED-4cGZ"
      },
      "execution_count": null,
      "outputs": []
    },
    {
      "cell_type": "markdown",
      "source": [
        "39. df의 데이터 중 choice_description 값에 Black이 들어가는 경우를 인덱싱하라"
      ],
      "metadata": {
        "id": "Uf7PZuJA4kPB"
      }
    },
    {
      "cell_type": "code",
      "source": [],
      "metadata": {
        "id": "QfNrLMl54fw6"
      },
      "execution_count": null,
      "outputs": []
    },
    {
      "cell_type": "markdown",
      "source": [
        "40. df의 데이터 중 choice_description 값에 Vegetables 들어가지 않는 경우의 갯수를 출력하라"
      ],
      "metadata": {
        "id": "-YlQNxxF459c"
      }
    },
    {
      "cell_type": "code",
      "source": [],
      "metadata": {
        "id": "VoC6D3Yi4ndB"
      },
      "execution_count": null,
      "outputs": []
    },
    {
      "cell_type": "markdown",
      "source": [
        "41. df의 데이터 중 item_name 값이 N으로 시작하는 데이터를 모두 추출하라"
      ],
      "metadata": {
        "id": "THKaikg-4-KY"
      }
    },
    {
      "cell_type": "code",
      "source": [],
      "metadata": {
        "id": "uAWjgzBi48Go"
      },
      "execution_count": null,
      "outputs": []
    },
    {
      "cell_type": "markdown",
      "source": [
        "42. df의 데이터 중 item_name 값의 단어갯수가 15개 이상인 데이터를 인덱싱하라"
      ],
      "metadata": {
        "id": "mMcH7nwg5EKF"
      }
    },
    {
      "cell_type": "code",
      "source": [],
      "metadata": {
        "id": "ZkZKq2c_5AsY"
      },
      "execution_count": null,
      "outputs": []
    },
    {
      "cell_type": "markdown",
      "source": [
        "43. df의 데이터 중 new_price값이 lst에 해당하는 경우의 데이터 프레임을 구하고 그 갯수를 출력하라 lst =[1.69, 2.39, 3.39, 4.45, 9.25, 10.98, 11.75, 16.98]"
      ],
      "metadata": {
        "id": "jFR2qn-u5JK0"
      }
    },
    {
      "cell_type": "code",
      "source": [],
      "metadata": {
        "id": "qGRKVMFF5GQ4"
      },
      "execution_count": null,
      "outputs": []
    },
    {
      "cell_type": "markdown",
      "source": [
        "44. 에어비앤비 데이터 로드"
      ],
      "metadata": {
        "id": "iICH_FwA5XPV"
      }
    },
    {
      "cell_type": "code",
      "source": [
        "df= pd.read_csv('https://raw.githubusercontent.com/Datamanim/pandas/main/AB_NYC_2019.csv')\n",
        "\n",
        "df.head(5)"
      ],
      "metadata": {
        "id": "yaAuGqrO5RA4"
      },
      "execution_count": null,
      "outputs": []
    },
    {
      "cell_type": "markdown",
      "source": [
        "45. 데이터의 각 host_name의 빈도수를 구하고 host_name으로 정렬하여 상위 5개를 출력하라"
      ],
      "metadata": {
        "id": "fqkUPYBI5c6u"
      }
    },
    {
      "cell_type": "code",
      "source": [],
      "metadata": {
        "id": "GEl5gj-n5ao_"
      },
      "execution_count": null,
      "outputs": []
    },
    {
      "cell_type": "markdown",
      "source": [
        "46. 데이터의 각 host_name의 빈도수를 구하고 빈도수 기준 내림차순 정렬한 데이터 프레임을 만들어라. 빈도수 컬럼은 counts로 명명하라"
      ],
      "metadata": {
        "id": "SUQdTTfz50xa"
      }
    },
    {
      "cell_type": "code",
      "source": [],
      "metadata": {
        "id": "4tXv83C65-Cn"
      },
      "execution_count": null,
      "outputs": []
    },
    {
      "cell_type": "markdown",
      "source": [
        "47. neighbourhood_group의 값에 따른 neighbourhood컬럼 값의 갯수를 구하여라"
      ],
      "metadata": {
        "id": "nqVesv_66KCq"
      }
    },
    {
      "cell_type": "code",
      "source": [],
      "metadata": {
        "id": "ASfee0y36Lel"
      },
      "execution_count": null,
      "outputs": []
    },
    {
      "cell_type": "markdown",
      "source": [
        "48. neighbourhood_group의 값에 따른 neighbourhood컬럼 값 중 neighbourhood_group그룹의 최댓값들을 출력하라"
      ],
      "metadata": {
        "id": "3j_sNm4Z6ffo"
      }
    },
    {
      "cell_type": "code",
      "source": [],
      "metadata": {
        "id": "WBg80CTI6c5m"
      },
      "execution_count": null,
      "outputs": []
    },
    {
      "cell_type": "markdown",
      "source": [
        "49. neighbourhood_group 값에 따른 price값의 평균, 분산, 최대, 최소 값을 구하여라"
      ],
      "metadata": {
        "id": "rhuruczi6pzu"
      }
    },
    {
      "cell_type": "code",
      "source": [],
      "metadata": {
        "id": "IZMRhX576hoE"
      },
      "execution_count": null,
      "outputs": []
    },
    {
      "cell_type": "markdown",
      "source": [
        "50. neighbourhood_group 값에 따른 reviews_per_month 평균, 분산, 최대, 최소 값을 구하여라"
      ],
      "metadata": {
        "id": "nMo-pM0_65RA"
      }
    },
    {
      "cell_type": "code",
      "source": [],
      "metadata": {
        "id": "F5wq4WPq66zj"
      },
      "execution_count": null,
      "outputs": []
    },
    {
      "cell_type": "markdown",
      "source": [
        "51. neighbourhood 값과 neighbourhood_group 값에 따른 price 의 평균을 구하라"
      ],
      "metadata": {
        "id": "MyKFevTT6_MH"
      }
    },
    {
      "cell_type": "code",
      "source": [],
      "metadata": {
        "id": "QQaBbsRD680j"
      },
      "execution_count": null,
      "outputs": []
    },
    {
      "cell_type": "markdown",
      "source": [
        "52. 카드 이용 데이터를 로드해라"
      ],
      "metadata": {
        "id": "Ca9X96g_7CJ1"
      }
    },
    {
      "cell_type": "code",
      "source": [
        "df =pd.read_csv('https://raw.githubusercontent.com/Datamanim/pandas/main/BankChurnersUp.csv',index_col=0)\n",
        "df.head()"
      ],
      "metadata": {
        "id": "MKQ0oGxS7A2b"
      },
      "execution_count": null,
      "outputs": []
    },
    {
      "cell_type": "markdown",
      "source": [
        "53. Income_Category의 카테고리를 map 함수를 이용하여 다음과 같이 변경하여 newIncome 컬럼에 매핑하라\n",
        "\n",
        "```\n",
        "Unknown : N\n",
        "Less than $40K : a\n",
        "$40K - $60K : b\n",
        "$60K - $80K : c\n",
        "$80K - $120K : d\n",
        "$120K +’ : e\n",
        "```"
      ],
      "metadata": {
        "id": "SDjOjgBa7mzp"
      }
    },
    {
      "cell_type": "code",
      "source": [],
      "metadata": {
        "id": "yNlfenoa7D6z"
      },
      "execution_count": null,
      "outputs": []
    },
    {
      "cell_type": "markdown",
      "source": [
        "54. Income_Category의 카테고리를 apply 함수를 이용하여 다음과 같이 변경하여 newIncome 컬럼에 매핑하라 \n",
        "\n",
        "```\n",
        "Unknown : N\n",
        "Less than $40K : a\n",
        "$40K - $60K : b\n",
        "$60K - $80K : c\n",
        "$80K - $120K : d\n",
        "$120K +’ : e\n",
        "```"
      ],
      "metadata": {
        "id": "e3ira75p7v5t"
      }
    },
    {
      "cell_type": "code",
      "source": [],
      "metadata": {
        "id": "WR7mSoZH7pTQ"
      },
      "execution_count": null,
      "outputs": []
    },
    {
      "cell_type": "markdown",
      "source": [
        "55. Customer_Age의 값을 이용하여 나이 구간을 AgeState 컬럼으로 정의하라. \n",
        "```\n",
        "(0~9 : 0 , 10~19 :10 , 20~29 :20 … 각 구간의 빈도수를 출력하라\n",
        "```"
      ],
      "metadata": {
        "id": "MameoXGP7-pR"
      }
    },
    {
      "cell_type": "code",
      "source": [],
      "metadata": {
        "id": "kv7WfgRq75dI"
      },
      "execution_count": null,
      "outputs": []
    },
    {
      "cell_type": "markdown",
      "source": [
        "56. Education_Level의 값중 Graduate단어가 포함되는 값은 1 그렇지 않은 경우에는 0으로 변경하여 newEduLevel 컬럼을 정의하고 빈도수를 출력하라"
      ],
      "metadata": {
        "id": "Y3aMxPOM8MPv"
      }
    },
    {
      "cell_type": "code",
      "source": [],
      "metadata": {
        "id": "cMatNzps8GJg"
      },
      "execution_count": null,
      "outputs": []
    },
    {
      "cell_type": "markdown",
      "source": [
        "57. Credit_Limit 컬럼값이 4500 이상인 경우 1 그외의 경우에는 모두 0으로 하는 newLimit 정의하라. newLimit 각 값들의 빈도수를 출력하라"
      ],
      "metadata": {
        "id": "bcHhQgtz8SS1"
      }
    },
    {
      "cell_type": "code",
      "source": [],
      "metadata": {
        "id": "Kdh-EKQl8Qwv"
      },
      "execution_count": null,
      "outputs": []
    },
    {
      "cell_type": "markdown",
      "source": [
        "58. Marital_Status 컬럼값이 Married 이고 Card_Category 컬럼의 값이 Platinum인 경우 1 그외의 경우에는 모두 0으로 하는 newState컬럼을 정의하라. newState의 각 값들의 빈도수를 출력하라"
      ],
      "metadata": {
        "id": "RHxM7l1e8bp3"
      }
    },
    {
      "cell_type": "code",
      "source": [],
      "metadata": {
        "id": "olED_zZv8afH"
      },
      "execution_count": null,
      "outputs": []
    },
    {
      "cell_type": "markdown",
      "source": [
        "59. Gender 컬럼값 M인 경우 male F인 경우 female로 값을 변경하여 Gender 컬럼에 새롭게 정의하라. 각 value의 빈도를 출력하라"
      ],
      "metadata": {
        "id": "JBjM3J1U8gvg"
      }
    },
    {
      "cell_type": "code",
      "source": [],
      "metadata": {
        "id": "9mYS17l-8eNH"
      },
      "execution_count": null,
      "outputs": []
    },
    {
      "cell_type": "markdown",
      "source": [
        "60. 국가별 5세이하 사망비율 통계 데이터를 로드해라"
      ],
      "metadata": {
        "id": "9Dga78gC8l6m"
      }
    },
    {
      "cell_type": "code",
      "source": [],
      "metadata": {
        "id": "RdnCBEB_8jze"
      },
      "execution_count": null,
      "outputs": []
    },
    {
      "cell_type": "markdown",
      "source": [
        "61. 데이터를 쪼개라"
      ],
      "metadata": {
        "id": "n1buiT-u9tZw"
      }
    },
    {
      "cell_type": "code",
      "source": [],
      "metadata": {
        "id": "VGMwkgVb9K6k"
      },
      "execution_count": null,
      "outputs": []
    },
    {
      "cell_type": "markdown",
      "source": [
        "62. df1과 df2 데이터를 하나의 데이터 프레임으로 합쳐라"
      ],
      "metadata": {
        "id": "_wvqzXSi9ztH"
      }
    },
    {
      "cell_type": "code",
      "source": [],
      "metadata": {
        "id": "B1wV420s9zcX"
      },
      "execution_count": null,
      "outputs": []
    },
    {
      "cell_type": "markdown",
      "source": [
        "63. df3과 df4 데이터를 하나의 데이터 프레임으로 합쳐라. 둘다 포함하고 있는 년도에 대해서만 고려한다\n",
        "\n",
        "```\n",
        "df3 = df.iloc[:2,:4]\n",
        "df4 = df.iloc[5:,3:]\n",
        "\n",
        "display(df3)\n",
        "display(df4)\n",
        "```\n"
      ],
      "metadata": {
        "id": "9dnP9JP895hn"
      }
    },
    {
      "cell_type": "code",
      "source": [],
      "metadata": {
        "id": "OizmsQqN9we7"
      },
      "execution_count": null,
      "outputs": []
    },
    {
      "cell_type": "markdown",
      "source": [
        "64. df3과 df4 데이터를 하나의 데이터 프레임으로 합쳐라. 모든 컬럼을 포함하고, 결측치는 0으로 대체한다"
      ],
      "metadata": {
        "id": "Ln15ltJI-U8o"
      }
    },
    {
      "cell_type": "code",
      "source": [],
      "metadata": {
        "id": "tl_PRHAf-Hhi"
      },
      "execution_count": null,
      "outputs": []
    },
    {
      "cell_type": "markdown",
      "source": [
        "65. df5과 df6 데이터를 하나의 데이터 프레임으로 merge함수를 이용하여 합쳐라. Algeria컬럼을 key로 하고 두 데이터 모두 포함하는 데이터만 출력하라\n",
        "\n",
        "```\n",
        "df5 = df.T.iloc[:7,:3]\n",
        "df6 = df.T.iloc[6:,2:5]\n",
        "\n",
        "display(df5)\n",
        "display(df6)\n",
        "```"
      ],
      "metadata": {
        "id": "36XPR2Gp-7cs"
      }
    },
    {
      "cell_type": "code",
      "source": [],
      "metadata": {
        "id": "f1gPAplH-YxS"
      },
      "execution_count": null,
      "outputs": []
    },
    {
      "cell_type": "markdown",
      "source": [
        "66. df5과 df6 데이터를 하나의 데이터 프레임으로 merge함수를 이용하여 합쳐라. Algeria컬럼을 key로 하고 합집합으로 합쳐라"
      ],
      "metadata": {
        "id": "kuLePvHH_IgN"
      }
    },
    {
      "cell_type": "code",
      "source": [],
      "metadata": {
        "id": "FuBSuz4X_BgI"
      },
      "execution_count": null,
      "outputs": []
    }
  ]
}